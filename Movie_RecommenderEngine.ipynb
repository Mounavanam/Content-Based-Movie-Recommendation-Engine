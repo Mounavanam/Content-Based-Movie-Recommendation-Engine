{
  "nbformat": 4,
  "nbformat_minor": 0,
  "metadata": {
    "colab": {
      "provenance": []
    },
    "kernelspec": {
      "name": "python3",
      "display_name": "Python 3"
    },
    "language_info": {
      "name": "python"
    }
  },
  "cells": [
    {
      "cell_type": "code",
      "execution_count": null,
      "metadata": {
        "id": "z7B2WalU4HrA"
      },
      "outputs": [],
      "source": []
    },
    {
      "cell_type": "code",
      "source": [
        "# to find similarity between content, we need to convert these texts into vectors\n",
        "\n",
        "from sklearn.feature_extraction.text import CountVectorizer"
      ],
      "metadata": {
        "id": "BEGsX9LW8nrM"
      },
      "execution_count": 1,
      "outputs": []
    },
    {
      "cell_type": "code",
      "source": [
        "text= [\"London Boston Boston\",\"Paris Boston London\"]\n",
        "count = CountVectorizer()"
      ],
      "metadata": {
        "id": "rmpVyoiI9R_O"
      },
      "execution_count": 9,
      "outputs": []
    },
    {
      "cell_type": "code",
      "source": [
        "# Fit and transform the data\n",
        "count_matrix = count.fit_transform(text)"
      ],
      "metadata": {
        "id": "b3GbXjWnDh5f"
      },
      "execution_count": 10,
      "outputs": []
    },
    {
      "cell_type": "code",
      "source": [
        "# output the count of each word\n",
        "print(\"Feature name(words):\" , count.get_feature_names_out())\n",
        "print(\"Count matrix:\" , count_matrix.toarray()) # human readable"
      ],
      "metadata": {
        "colab": {
          "base_uri": "https://localhost:8080/"
        },
        "id": "jQMv8yMUEStl",
        "outputId": "52f05d42-e1fe-4237-aa7b-c2457c2fbe4c"
      },
      "execution_count": 11,
      "outputs": [
        {
          "output_type": "stream",
          "name": "stdout",
          "text": [
            "Feature name(words): ['boston' 'london' 'paris']\n",
            "Count matrix: [[2 1 0]\n",
            " [1 1 1]]\n"
          ]
        }
      ]
    },
    {
      "cell_type": "code",
      "source": [
        "# Now we need to find the cosine similarity between these vectors to find how similar they are from each other- use cosine_similarity() fn from sklearn.metric.pairwise library\n",
        "from sklearn.metrics.pairwise import cosine_similarity\n",
        "similarity_score = cosine_similarity(count_matrix)\n",
        "print(similarity_score)\n"
      ],
      "metadata": {
        "colab": {
          "base_uri": "https://localhost:8080/"
        },
        "id": "1C8gXRffEa4O",
        "outputId": "02536db8-08b3-4a9d-e098-1fa04553bca6"
      },
      "execution_count": 12,
      "outputs": [
        {
          "output_type": "stream",
          "name": "stdout",
          "text": [
            "[[1.         0.77459667]\n",
            " [0.77459667 1.        ]]\n"
          ]
        }
      ]
    },
    {
      "cell_type": "markdown",
      "source": [
        "Interpreting the score matrix (symmetric matrix), ext A is similar to Text A(itself) by 100%(position [0,0]) and Text A is similar to Text B by 77%(position [0,1]). And by looking at the kind of output it is giving, we can easily say that this is always going to output a symmetric matrix. Because, if Text A is similar to Text B by 77% then, Text B is also going to be similar to Text A by 77%.\n",
        "Now we know how to find similarity between contents. So, let’s try to apply this knowledge to build a content based movie recommendation engine."
      ],
      "metadata": {
        "id": "mDCm3-wjILYK"
      }
    },
    {
      "cell_type": "code",
      "source": [
        "## building the Model\n",
        "import pandas as pd\n",
        "import numpy as np\n",
        "from sklearn.feature_extraction.text import CountVectorizer\n",
        "from sklearn.metrics.pairwise import cosine_similarity"
      ],
      "metadata": {
        "id": "F12kcZMJIiA1"
      },
      "execution_count": 14,
      "outputs": []
    },
    {
      "cell_type": "code",
      "source": [
        "df = pd.read_csv(\"movie_dataset.csv\")"
      ],
      "metadata": {
        "id": "1rrHKf38J5hO"
      },
      "execution_count": 15,
      "outputs": []
    },
    {
      "cell_type": "code",
      "source": [
        "df.head()"
      ],
      "metadata": {
        "colab": {
          "base_uri": "https://localhost:8080/",
          "height": 746
        },
        "id": "j_Rp3wq3KA5E",
        "outputId": "16afba70-2f9e-4c63-be5b-070331b06762"
      },
      "execution_count": 16,
      "outputs": [
        {
          "output_type": "execute_result",
          "data": {
            "text/plain": [
              "   index     budget                                    genres  \\\n",
              "0      0  237000000  Action Adventure Fantasy Science Fiction   \n",
              "1      1  300000000                  Adventure Fantasy Action   \n",
              "2      2  245000000                    Action Adventure Crime   \n",
              "3      3  250000000               Action Crime Drama Thriller   \n",
              "4      4  260000000          Action Adventure Science Fiction   \n",
              "\n",
              "                                       homepage      id  \\\n",
              "0                   http://www.avatarmovie.com/   19995   \n",
              "1  http://disney.go.com/disneypictures/pirates/     285   \n",
              "2   http://www.sonypictures.com/movies/spectre/  206647   \n",
              "3            http://www.thedarkknightrises.com/   49026   \n",
              "4          http://movies.disney.com/john-carter   49529   \n",
              "\n",
              "                                            keywords original_language  \\\n",
              "0  culture clash future space war space colony so...                en   \n",
              "1  ocean drug abuse exotic island east india trad...                en   \n",
              "2         spy based on novel secret agent sequel mi6                en   \n",
              "3  dc comics crime fighter terrorist secret ident...                en   \n",
              "4  based on novel mars medallion space travel pri...                en   \n",
              "\n",
              "                             original_title  \\\n",
              "0                                    Avatar   \n",
              "1  Pirates of the Caribbean: At World's End   \n",
              "2                                   Spectre   \n",
              "3                     The Dark Knight Rises   \n",
              "4                               John Carter   \n",
              "\n",
              "                                            overview  popularity  ... runtime  \\\n",
              "0  In the 22nd century, a paraplegic Marine is di...  150.437577  ...   162.0   \n",
              "1  Captain Barbossa, long believed to be dead, ha...  139.082615  ...   169.0   \n",
              "2  A cryptic message from Bond’s past sends him o...  107.376788  ...   148.0   \n",
              "3  Following the death of District Attorney Harve...  112.312950  ...   165.0   \n",
              "4  John Carter is a war-weary, former military ca...   43.926995  ...   132.0   \n",
              "\n",
              "                                    spoken_languages    status  \\\n",
              "0  [{\"iso_639_1\": \"en\", \"name\": \"English\"}, {\"iso...  Released   \n",
              "1           [{\"iso_639_1\": \"en\", \"name\": \"English\"}]  Released   \n",
              "2  [{\"iso_639_1\": \"fr\", \"name\": \"Fran\\u00e7ais\"},...  Released   \n",
              "3           [{\"iso_639_1\": \"en\", \"name\": \"English\"}]  Released   \n",
              "4           [{\"iso_639_1\": \"en\", \"name\": \"English\"}]  Released   \n",
              "\n",
              "                                          tagline  \\\n",
              "0                     Enter the World of Pandora.   \n",
              "1  At the end of the world, the adventure begins.   \n",
              "2                           A Plan No One Escapes   \n",
              "3                                 The Legend Ends   \n",
              "4            Lost in our world, found in another.   \n",
              "\n",
              "                                      title vote_average vote_count  \\\n",
              "0                                    Avatar          7.2      11800   \n",
              "1  Pirates of the Caribbean: At World's End          6.9       4500   \n",
              "2                                   Spectre          6.3       4466   \n",
              "3                     The Dark Knight Rises          7.6       9106   \n",
              "4                               John Carter          6.1       2124   \n",
              "\n",
              "                                                cast  \\\n",
              "0  Sam Worthington Zoe Saldana Sigourney Weaver S...   \n",
              "1  Johnny Depp Orlando Bloom Keira Knightley Stel...   \n",
              "2  Daniel Craig Christoph Waltz L\\u00e9a Seydoux ...   \n",
              "3  Christian Bale Michael Caine Gary Oldman Anne ...   \n",
              "4  Taylor Kitsch Lynn Collins Samantha Morton Wil...   \n",
              "\n",
              "                                                crew           director  \n",
              "0  [{'name': 'Stephen E. Rivkin', 'gender': 0, 'd...      James Cameron  \n",
              "1  [{'name': 'Dariusz Wolski', 'gender': 2, 'depa...     Gore Verbinski  \n",
              "2  [{'name': 'Thomas Newman', 'gender': 2, 'depar...         Sam Mendes  \n",
              "3  [{'name': 'Hans Zimmer', 'gender': 2, 'departm...  Christopher Nolan  \n",
              "4  [{'name': 'Andrew Stanton', 'gender': 2, 'depa...     Andrew Stanton  \n",
              "\n",
              "[5 rows x 24 columns]"
            ],
            "text/html": [
              "\n",
              "  <div id=\"df-4fdb5c77-0331-4a62-9739-832da904b9b4\" class=\"colab-df-container\">\n",
              "    <div>\n",
              "<style scoped>\n",
              "    .dataframe tbody tr th:only-of-type {\n",
              "        vertical-align: middle;\n",
              "    }\n",
              "\n",
              "    .dataframe tbody tr th {\n",
              "        vertical-align: top;\n",
              "    }\n",
              "\n",
              "    .dataframe thead th {\n",
              "        text-align: right;\n",
              "    }\n",
              "</style>\n",
              "<table border=\"1\" class=\"dataframe\">\n",
              "  <thead>\n",
              "    <tr style=\"text-align: right;\">\n",
              "      <th></th>\n",
              "      <th>index</th>\n",
              "      <th>budget</th>\n",
              "      <th>genres</th>\n",
              "      <th>homepage</th>\n",
              "      <th>id</th>\n",
              "      <th>keywords</th>\n",
              "      <th>original_language</th>\n",
              "      <th>original_title</th>\n",
              "      <th>overview</th>\n",
              "      <th>popularity</th>\n",
              "      <th>...</th>\n",
              "      <th>runtime</th>\n",
              "      <th>spoken_languages</th>\n",
              "      <th>status</th>\n",
              "      <th>tagline</th>\n",
              "      <th>title</th>\n",
              "      <th>vote_average</th>\n",
              "      <th>vote_count</th>\n",
              "      <th>cast</th>\n",
              "      <th>crew</th>\n",
              "      <th>director</th>\n",
              "    </tr>\n",
              "  </thead>\n",
              "  <tbody>\n",
              "    <tr>\n",
              "      <th>0</th>\n",
              "      <td>0</td>\n",
              "      <td>237000000</td>\n",
              "      <td>Action Adventure Fantasy Science Fiction</td>\n",
              "      <td>http://www.avatarmovie.com/</td>\n",
              "      <td>19995</td>\n",
              "      <td>culture clash future space war space colony so...</td>\n",
              "      <td>en</td>\n",
              "      <td>Avatar</td>\n",
              "      <td>In the 22nd century, a paraplegic Marine is di...</td>\n",
              "      <td>150.437577</td>\n",
              "      <td>...</td>\n",
              "      <td>162.0</td>\n",
              "      <td>[{\"iso_639_1\": \"en\", \"name\": \"English\"}, {\"iso...</td>\n",
              "      <td>Released</td>\n",
              "      <td>Enter the World of Pandora.</td>\n",
              "      <td>Avatar</td>\n",
              "      <td>7.2</td>\n",
              "      <td>11800</td>\n",
              "      <td>Sam Worthington Zoe Saldana Sigourney Weaver S...</td>\n",
              "      <td>[{'name': 'Stephen E. Rivkin', 'gender': 0, 'd...</td>\n",
              "      <td>James Cameron</td>\n",
              "    </tr>\n",
              "    <tr>\n",
              "      <th>1</th>\n",
              "      <td>1</td>\n",
              "      <td>300000000</td>\n",
              "      <td>Adventure Fantasy Action</td>\n",
              "      <td>http://disney.go.com/disneypictures/pirates/</td>\n",
              "      <td>285</td>\n",
              "      <td>ocean drug abuse exotic island east india trad...</td>\n",
              "      <td>en</td>\n",
              "      <td>Pirates of the Caribbean: At World's End</td>\n",
              "      <td>Captain Barbossa, long believed to be dead, ha...</td>\n",
              "      <td>139.082615</td>\n",
              "      <td>...</td>\n",
              "      <td>169.0</td>\n",
              "      <td>[{\"iso_639_1\": \"en\", \"name\": \"English\"}]</td>\n",
              "      <td>Released</td>\n",
              "      <td>At the end of the world, the adventure begins.</td>\n",
              "      <td>Pirates of the Caribbean: At World's End</td>\n",
              "      <td>6.9</td>\n",
              "      <td>4500</td>\n",
              "      <td>Johnny Depp Orlando Bloom Keira Knightley Stel...</td>\n",
              "      <td>[{'name': 'Dariusz Wolski', 'gender': 2, 'depa...</td>\n",
              "      <td>Gore Verbinski</td>\n",
              "    </tr>\n",
              "    <tr>\n",
              "      <th>2</th>\n",
              "      <td>2</td>\n",
              "      <td>245000000</td>\n",
              "      <td>Action Adventure Crime</td>\n",
              "      <td>http://www.sonypictures.com/movies/spectre/</td>\n",
              "      <td>206647</td>\n",
              "      <td>spy based on novel secret agent sequel mi6</td>\n",
              "      <td>en</td>\n",
              "      <td>Spectre</td>\n",
              "      <td>A cryptic message from Bond’s past sends him o...</td>\n",
              "      <td>107.376788</td>\n",
              "      <td>...</td>\n",
              "      <td>148.0</td>\n",
              "      <td>[{\"iso_639_1\": \"fr\", \"name\": \"Fran\\u00e7ais\"},...</td>\n",
              "      <td>Released</td>\n",
              "      <td>A Plan No One Escapes</td>\n",
              "      <td>Spectre</td>\n",
              "      <td>6.3</td>\n",
              "      <td>4466</td>\n",
              "      <td>Daniel Craig Christoph Waltz L\\u00e9a Seydoux ...</td>\n",
              "      <td>[{'name': 'Thomas Newman', 'gender': 2, 'depar...</td>\n",
              "      <td>Sam Mendes</td>\n",
              "    </tr>\n",
              "    <tr>\n",
              "      <th>3</th>\n",
              "      <td>3</td>\n",
              "      <td>250000000</td>\n",
              "      <td>Action Crime Drama Thriller</td>\n",
              "      <td>http://www.thedarkknightrises.com/</td>\n",
              "      <td>49026</td>\n",
              "      <td>dc comics crime fighter terrorist secret ident...</td>\n",
              "      <td>en</td>\n",
              "      <td>The Dark Knight Rises</td>\n",
              "      <td>Following the death of District Attorney Harve...</td>\n",
              "      <td>112.312950</td>\n",
              "      <td>...</td>\n",
              "      <td>165.0</td>\n",
              "      <td>[{\"iso_639_1\": \"en\", \"name\": \"English\"}]</td>\n",
              "      <td>Released</td>\n",
              "      <td>The Legend Ends</td>\n",
              "      <td>The Dark Knight Rises</td>\n",
              "      <td>7.6</td>\n",
              "      <td>9106</td>\n",
              "      <td>Christian Bale Michael Caine Gary Oldman Anne ...</td>\n",
              "      <td>[{'name': 'Hans Zimmer', 'gender': 2, 'departm...</td>\n",
              "      <td>Christopher Nolan</td>\n",
              "    </tr>\n",
              "    <tr>\n",
              "      <th>4</th>\n",
              "      <td>4</td>\n",
              "      <td>260000000</td>\n",
              "      <td>Action Adventure Science Fiction</td>\n",
              "      <td>http://movies.disney.com/john-carter</td>\n",
              "      <td>49529</td>\n",
              "      <td>based on novel mars medallion space travel pri...</td>\n",
              "      <td>en</td>\n",
              "      <td>John Carter</td>\n",
              "      <td>John Carter is a war-weary, former military ca...</td>\n",
              "      <td>43.926995</td>\n",
              "      <td>...</td>\n",
              "      <td>132.0</td>\n",
              "      <td>[{\"iso_639_1\": \"en\", \"name\": \"English\"}]</td>\n",
              "      <td>Released</td>\n",
              "      <td>Lost in our world, found in another.</td>\n",
              "      <td>John Carter</td>\n",
              "      <td>6.1</td>\n",
              "      <td>2124</td>\n",
              "      <td>Taylor Kitsch Lynn Collins Samantha Morton Wil...</td>\n",
              "      <td>[{'name': 'Andrew Stanton', 'gender': 2, 'depa...</td>\n",
              "      <td>Andrew Stanton</td>\n",
              "    </tr>\n",
              "  </tbody>\n",
              "</table>\n",
              "<p>5 rows × 24 columns</p>\n",
              "</div>\n",
              "    <div class=\"colab-df-buttons\">\n",
              "\n",
              "  <div class=\"colab-df-container\">\n",
              "    <button class=\"colab-df-convert\" onclick=\"convertToInteractive('df-4fdb5c77-0331-4a62-9739-832da904b9b4')\"\n",
              "            title=\"Convert this dataframe to an interactive table.\"\n",
              "            style=\"display:none;\">\n",
              "\n",
              "  <svg xmlns=\"http://www.w3.org/2000/svg\" height=\"24px\" viewBox=\"0 -960 960 960\">\n",
              "    <path d=\"M120-120v-720h720v720H120Zm60-500h600v-160H180v160Zm220 220h160v-160H400v160Zm0 220h160v-160H400v160ZM180-400h160v-160H180v160Zm440 0h160v-160H620v160ZM180-180h160v-160H180v160Zm440 0h160v-160H620v160Z\"/>\n",
              "  </svg>\n",
              "    </button>\n",
              "\n",
              "  <style>\n",
              "    .colab-df-container {\n",
              "      display:flex;\n",
              "      gap: 12px;\n",
              "    }\n",
              "\n",
              "    .colab-df-convert {\n",
              "      background-color: #E8F0FE;\n",
              "      border: none;\n",
              "      border-radius: 50%;\n",
              "      cursor: pointer;\n",
              "      display: none;\n",
              "      fill: #1967D2;\n",
              "      height: 32px;\n",
              "      padding: 0 0 0 0;\n",
              "      width: 32px;\n",
              "    }\n",
              "\n",
              "    .colab-df-convert:hover {\n",
              "      background-color: #E2EBFA;\n",
              "      box-shadow: 0px 1px 2px rgba(60, 64, 67, 0.3), 0px 1px 3px 1px rgba(60, 64, 67, 0.15);\n",
              "      fill: #174EA6;\n",
              "    }\n",
              "\n",
              "    .colab-df-buttons div {\n",
              "      margin-bottom: 4px;\n",
              "    }\n",
              "\n",
              "    [theme=dark] .colab-df-convert {\n",
              "      background-color: #3B4455;\n",
              "      fill: #D2E3FC;\n",
              "    }\n",
              "\n",
              "    [theme=dark] .colab-df-convert:hover {\n",
              "      background-color: #434B5C;\n",
              "      box-shadow: 0px 1px 3px 1px rgba(0, 0, 0, 0.15);\n",
              "      filter: drop-shadow(0px 1px 2px rgba(0, 0, 0, 0.3));\n",
              "      fill: #FFFFFF;\n",
              "    }\n",
              "  </style>\n",
              "\n",
              "    <script>\n",
              "      const buttonEl =\n",
              "        document.querySelector('#df-4fdb5c77-0331-4a62-9739-832da904b9b4 button.colab-df-convert');\n",
              "      buttonEl.style.display =\n",
              "        google.colab.kernel.accessAllowed ? 'block' : 'none';\n",
              "\n",
              "      async function convertToInteractive(key) {\n",
              "        const element = document.querySelector('#df-4fdb5c77-0331-4a62-9739-832da904b9b4');\n",
              "        const dataTable =\n",
              "          await google.colab.kernel.invokeFunction('convertToInteractive',\n",
              "                                                    [key], {});\n",
              "        if (!dataTable) return;\n",
              "\n",
              "        const docLinkHtml = 'Like what you see? Visit the ' +\n",
              "          '<a target=\"_blank\" href=https://colab.research.google.com/notebooks/data_table.ipynb>data table notebook</a>'\n",
              "          + ' to learn more about interactive tables.';\n",
              "        element.innerHTML = '';\n",
              "        dataTable['output_type'] = 'display_data';\n",
              "        await google.colab.output.renderOutput(dataTable, element);\n",
              "        const docLink = document.createElement('div');\n",
              "        docLink.innerHTML = docLinkHtml;\n",
              "        element.appendChild(docLink);\n",
              "      }\n",
              "    </script>\n",
              "  </div>\n",
              "\n",
              "\n",
              "<div id=\"df-62fce216-867b-49fc-a5dc-9c21c1bb1b49\">\n",
              "  <button class=\"colab-df-quickchart\" onclick=\"quickchart('df-62fce216-867b-49fc-a5dc-9c21c1bb1b49')\"\n",
              "            title=\"Suggest charts\"\n",
              "            style=\"display:none;\">\n",
              "\n",
              "<svg xmlns=\"http://www.w3.org/2000/svg\" height=\"24px\"viewBox=\"0 0 24 24\"\n",
              "     width=\"24px\">\n",
              "    <g>\n",
              "        <path d=\"M19 3H5c-1.1 0-2 .9-2 2v14c0 1.1.9 2 2 2h14c1.1 0 2-.9 2-2V5c0-1.1-.9-2-2-2zM9 17H7v-7h2v7zm4 0h-2V7h2v10zm4 0h-2v-4h2v4z\"/>\n",
              "    </g>\n",
              "</svg>\n",
              "  </button>\n",
              "\n",
              "<style>\n",
              "  .colab-df-quickchart {\n",
              "      --bg-color: #E8F0FE;\n",
              "      --fill-color: #1967D2;\n",
              "      --hover-bg-color: #E2EBFA;\n",
              "      --hover-fill-color: #174EA6;\n",
              "      --disabled-fill-color: #AAA;\n",
              "      --disabled-bg-color: #DDD;\n",
              "  }\n",
              "\n",
              "  [theme=dark] .colab-df-quickchart {\n",
              "      --bg-color: #3B4455;\n",
              "      --fill-color: #D2E3FC;\n",
              "      --hover-bg-color: #434B5C;\n",
              "      --hover-fill-color: #FFFFFF;\n",
              "      --disabled-bg-color: #3B4455;\n",
              "      --disabled-fill-color: #666;\n",
              "  }\n",
              "\n",
              "  .colab-df-quickchart {\n",
              "    background-color: var(--bg-color);\n",
              "    border: none;\n",
              "    border-radius: 50%;\n",
              "    cursor: pointer;\n",
              "    display: none;\n",
              "    fill: var(--fill-color);\n",
              "    height: 32px;\n",
              "    padding: 0;\n",
              "    width: 32px;\n",
              "  }\n",
              "\n",
              "  .colab-df-quickchart:hover {\n",
              "    background-color: var(--hover-bg-color);\n",
              "    box-shadow: 0 1px 2px rgba(60, 64, 67, 0.3), 0 1px 3px 1px rgba(60, 64, 67, 0.15);\n",
              "    fill: var(--button-hover-fill-color);\n",
              "  }\n",
              "\n",
              "  .colab-df-quickchart-complete:disabled,\n",
              "  .colab-df-quickchart-complete:disabled:hover {\n",
              "    background-color: var(--disabled-bg-color);\n",
              "    fill: var(--disabled-fill-color);\n",
              "    box-shadow: none;\n",
              "  }\n",
              "\n",
              "  .colab-df-spinner {\n",
              "    border: 2px solid var(--fill-color);\n",
              "    border-color: transparent;\n",
              "    border-bottom-color: var(--fill-color);\n",
              "    animation:\n",
              "      spin 1s steps(1) infinite;\n",
              "  }\n",
              "\n",
              "  @keyframes spin {\n",
              "    0% {\n",
              "      border-color: transparent;\n",
              "      border-bottom-color: var(--fill-color);\n",
              "      border-left-color: var(--fill-color);\n",
              "    }\n",
              "    20% {\n",
              "      border-color: transparent;\n",
              "      border-left-color: var(--fill-color);\n",
              "      border-top-color: var(--fill-color);\n",
              "    }\n",
              "    30% {\n",
              "      border-color: transparent;\n",
              "      border-left-color: var(--fill-color);\n",
              "      border-top-color: var(--fill-color);\n",
              "      border-right-color: var(--fill-color);\n",
              "    }\n",
              "    40% {\n",
              "      border-color: transparent;\n",
              "      border-right-color: var(--fill-color);\n",
              "      border-top-color: var(--fill-color);\n",
              "    }\n",
              "    60% {\n",
              "      border-color: transparent;\n",
              "      border-right-color: var(--fill-color);\n",
              "    }\n",
              "    80% {\n",
              "      border-color: transparent;\n",
              "      border-right-color: var(--fill-color);\n",
              "      border-bottom-color: var(--fill-color);\n",
              "    }\n",
              "    90% {\n",
              "      border-color: transparent;\n",
              "      border-bottom-color: var(--fill-color);\n",
              "    }\n",
              "  }\n",
              "</style>\n",
              "\n",
              "  <script>\n",
              "    async function quickchart(key) {\n",
              "      const quickchartButtonEl =\n",
              "        document.querySelector('#' + key + ' button');\n",
              "      quickchartButtonEl.disabled = true;  // To prevent multiple clicks.\n",
              "      quickchartButtonEl.classList.add('colab-df-spinner');\n",
              "      try {\n",
              "        const charts = await google.colab.kernel.invokeFunction(\n",
              "            'suggestCharts', [key], {});\n",
              "      } catch (error) {\n",
              "        console.error('Error during call to suggestCharts:', error);\n",
              "      }\n",
              "      quickchartButtonEl.classList.remove('colab-df-spinner');\n",
              "      quickchartButtonEl.classList.add('colab-df-quickchart-complete');\n",
              "    }\n",
              "    (() => {\n",
              "      let quickchartButtonEl =\n",
              "        document.querySelector('#df-62fce216-867b-49fc-a5dc-9c21c1bb1b49 button');\n",
              "      quickchartButtonEl.style.display =\n",
              "        google.colab.kernel.accessAllowed ? 'block' : 'none';\n",
              "    })();\n",
              "  </script>\n",
              "</div>\n",
              "\n",
              "    </div>\n",
              "  </div>\n"
            ],
            "application/vnd.google.colaboratory.intrinsic+json": {
              "type": "dataframe",
              "variable_name": "df"
            }
          },
          "metadata": {},
          "execution_count": 16
        }
      ]
    },
    {
      "cell_type": "code",
      "source": [
        "df.shape"
      ],
      "metadata": {
        "colab": {
          "base_uri": "https://localhost:8080/"
        },
        "id": "qGPUPRFB19OJ",
        "outputId": "3d1f7919-2e00-4180-bb52-4f6bec1607f0"
      },
      "execution_count": 45,
      "outputs": [
        {
          "output_type": "execute_result",
          "data": {
            "text/plain": [
              "(4803, 25)"
            ]
          },
          "metadata": {},
          "execution_count": 45
        }
      ]
    },
    {
      "cell_type": "code",
      "source": [
        "df.dtypes"
      ],
      "metadata": {
        "colab": {
          "base_uri": "https://localhost:8080/"
        },
        "id": "x_KIz3eNcndJ",
        "outputId": "68acc4e7-a813-4b48-976c-260281e7721d"
      },
      "execution_count": 17,
      "outputs": [
        {
          "output_type": "execute_result",
          "data": {
            "text/plain": [
              "index                     int64\n",
              "budget                    int64\n",
              "genres                   object\n",
              "homepage                 object\n",
              "id                        int64\n",
              "keywords                 object\n",
              "original_language        object\n",
              "original_title           object\n",
              "overview                 object\n",
              "popularity              float64\n",
              "production_companies     object\n",
              "production_countries     object\n",
              "release_date             object\n",
              "revenue                   int64\n",
              "runtime                 float64\n",
              "spoken_languages         object\n",
              "status                   object\n",
              "tagline                  object\n",
              "title                    object\n",
              "vote_average            float64\n",
              "vote_count                int64\n",
              "cast                     object\n",
              "crew                     object\n",
              "director                 object\n",
              "dtype: object"
            ]
          },
          "metadata": {},
          "execution_count": 17
        }
      ]
    },
    {
      "cell_type": "code",
      "source": [
        "features = [\"keywords\" , \"genres\" , \"cast\" , \"director\"]"
      ],
      "metadata": {
        "id": "b783HpWDcpoR"
      },
      "execution_count": 18,
      "outputs": []
    },
    {
      "cell_type": "markdown",
      "source": [
        "Combining all the features into a single string for each movie allows you to create a unified feature set from which the similarity between movies can be measured. These are combined and vectorized, the resulting vector represents the overall profile of the movie. The similarity between these vectors can then be computed to find movies that are similar across all these dimensions."
      ],
      "metadata": {
        "id": "Se_wQ8WAk-Cj"
      }
    },
    {
      "cell_type": "code",
      "source": [
        "def combined_features(row):\n",
        "  return row['keywords'] + \" \" + row['cast'] + \" \" + row['genres'] + \" \" + row['director']"
      ],
      "metadata": {
        "id": "J87CQZXkiXxw"
      },
      "execution_count": 19,
      "outputs": []
    },
    {
      "cell_type": "code",
      "source": [
        "# fill in the missing values\n",
        "for feature in features:\n",
        "  df[feature] = df[feature].fillna(\"\")"
      ],
      "metadata": {
        "id": "6XEYSrOOl7ZT"
      },
      "execution_count": 20,
      "outputs": []
    },
    {
      "cell_type": "code",
      "source": [
        "#applying the above combined_features() method to each row of the data and store the combined string in a new column\n",
        "df['combined_features'] = df.apply(lambda row: combined_features(row), axis=1)\n"
      ],
      "metadata": {
        "id": "k3_AA2NgmSNU"
      },
      "execution_count": 25,
      "outputs": []
    },
    {
      "cell_type": "code",
      "source": [
        "#now we use the countVectorizer library from sklearn\n",
        "count= CountVectorizer()\n",
        "count_matrix = count.fit_transform(df['combined_features'])"
      ],
      "metadata": {
        "id": "9ACOuclOmqdO"
      },
      "execution_count": 26,
      "outputs": []
    },
    {
      "cell_type": "code",
      "source": [
        "# calculating the scores using cosine similarity\n",
        "similarity_Score = cosine_similarity(count_matrix)\n",
        "print(similarity_Score)"
      ],
      "metadata": {
        "colab": {
          "base_uri": "https://localhost:8080/"
        },
        "id": "qTo5mqeHoG-v",
        "outputId": "4b492728-6cc9-433e-8556-8b4cf5aa2cdb"
      },
      "execution_count": 28,
      "outputs": [
        {
          "output_type": "stream",
          "name": "stdout",
          "text": [
            "[[1.         0.10540926 0.12038585 ... 0.         0.         0.        ]\n",
            " [0.10540926 1.         0.0761387  ... 0.03651484 0.         0.        ]\n",
            " [0.12038585 0.0761387  1.         ... 0.         0.11145564 0.        ]\n",
            " ...\n",
            " [0.         0.03651484 0.         ... 1.         0.         0.04264014]\n",
            " [0.         0.         0.11145564 ... 0.         1.         0.        ]\n",
            " [0.         0.         0.         ... 0.04264014 0.         1.        ]]\n"
          ]
        }
      ]
    },
    {
      "cell_type": "code",
      "source": [
        "# defining 2 helper funcitons\n",
        "\n",
        "def get_title_from_index(index):\n",
        "    return df[df.index == index][\"title\"].values[0]\n",
        "def get_index_from_title(title):\n",
        "    return df[df.title == title][\"index\"].values[0]"
      ],
      "metadata": {
        "id": "dVyJgEy-oz8u"
      },
      "execution_count": 29,
      "outputs": []
    },
    {
      "cell_type": "markdown",
      "source": [
        "next, get the title of the movie that that user likes and get the index of it and access the row corresponding to this movie in the similarity matrix. Thus, we will get the similarity scores of all other movies from the current movie."
      ],
      "metadata": {
        "id": "KHCcN3-ht5o1"
      }
    },
    {
      "cell_type": "code",
      "source": [
        "user_liked_movie = \"Fight Club\"\n",
        "movie_index = get_index_from_title(user_liked_movie)\n",
        "\n",
        "# accessing the row corresponding to given movie to find all the similarity scores for that movie and then enumerating over it\n",
        "movies_similar = list(enumerate(similarity_Score[movie_index]))"
      ],
      "metadata": {
        "id": "l43qVFXCudd0"
      },
      "execution_count": 38,
      "outputs": []
    },
    {
      "cell_type": "code",
      "source": [
        "print(movies_similar)"
      ],
      "metadata": {
        "colab": {
          "base_uri": "https://localhost:8080/"
        },
        "id": "2aO0fElU1oB_",
        "outputId": "7d8a303d-562d-4e78-cc31-8e7ca4397fe0"
      },
      "execution_count": 42,
      "outputs": [
        {
          "output_type": "stream",
          "name": "stdout",
          "text": [
            "[(0, 0.0), (1, 0.0), (2, 0.0), (3, 0.08178608201095308), (4, 0.0), (5, 0.08340576562282992), (6, 0.0), (7, 0.0), (8, 0.044455422447438706), (9, 0.0), (10, 0.0), (11, 0.0), (12, 0.0), (13, 0.12510864843424488), (14, 0.0), (15, 0.0), (16, 0.0), (17, 0.0), (18, 0.0), (19, 0.0), (20, 0.0), (21, 0.042562826537937436), (22, 0.0), (23, 0.0), (24, 0.036860489038724284), (25, 0.04662524041201569), (26, 0.0), (27, 0.0), (28, 0.0), (29, 0.0), (30, 0.08178608201095308), (31, 0.0), (32, 0.11821656093586509), (33, 0.0), (34, 0.0), (35, 0.0), (36, 0.0), (37, 0.0), (38, 0.0), (39, 0.04089304100547654), (40, 0.0), (41, 0.0), (42, 0.0), (43, 0.0), (44, 0.0), (45, 0.12267912301642962), (46, 0.0), (47, 0.0), (48, 0.0), (49, 0.04550157551932901), (50, 0.0), (51, 0.0), (52, 0.0), (53, 0.0), (54, 0.0), (55, 0.0), (56, 0.0), (57, 0.0), (58, 0.0), (59, 0.0), (60, 0.04347826086956522), (61, 0.0), (62, 0.044455422447438706), (63, 0.0), (64, 0.0), (65, 0.08178608201095308), (66, 0.03806934938134405), (67, 0.0), (68, 0.0), (69, 0.042562826537937436), (70, 0.0), (71, 0.0), (72, 0.12038585308576921), (73, 0.038720154633118314), (74, 0.0), (75, 0.0), (76, 0.0), (77, 0.04089304100547654), (78, 0.04347826086956522), (79, 0.0), (80, 0.04550157551932901), (81, 0.0), (82, 0.04347826086956522), (83, 0.0), (84, 0.040128617695256406), (85, 0.0), (86, 0.0), (87, 0.044455422447438706), (88, 0.0), (89, 0.08695652173913045), (90, 0.0), (91, 0.0), (92, 0.0), (93, 0.040128617695256406), (94, 0.0), (95, 0.040128617695256406), (96, 0.0), (97, 0.04089304100547654), (98, 0.0), (99, 0.0), (100, 0.22227711223719354), (101, 0.0), (102, 0.0), (103, 0.044455422447438706), (104, 0.04170288281141496), (105, 0.13043478260869568), (106, 0.0), (107, 0.0), (108, 0.0), (109, 0.0), (110, 0.0), (111, 0.0), (112, 0.13043478260869568), (113, 0.04170288281141496), (114, 0.04170288281141496), (115, 0.0), (116, 0.07151985398521515), (117, 0.040128617695256406), (118, 0.0), (119, 0.08178608201095308), (120, 0.04550157551932901), (121, 0.0), (122, 0.0), (123, 0.0), (124, 0.0), (125, 0.0), (126, 0.0), (127, 0.0), (128, 0.0), (129, 0.0), (130, 0.040128617695256406), (131, 0.0), (132, 0.0), (133, 0.12510864843424488), (134, 0.0), (135, 0.04170288281141496), (136, 0.0), (137, 0.0), (138, 0.0), (139, 0.04347826086956522), (140, 0.04347826086956522), (141, 0.0), (142, 0.044455422447438706), (143, 0.0), (144, 0.0), (145, 0.12038585308576921), (146, 0.05057217374241736), (147, 0.0), (148, 0.0), (149, 0.0), (150, 0.038720154633118314), (151, 0.042562826537937436), (152, 0.0), (153, 0.04550157551932901), (154, 0.0), (155, 0.0), (156, 0.08178608201095308), (157, 0.04550157551932901), (158, 0.0), (159, 0.0), (160, 0.0), (161, 0.0), (162, 0.0), (163, 0.03940552031195503), (164, 0.0), (165, 0.044455422447438706), (166, 0.0), (167, 0.04550157551932901), (168, 0.0), (169, 0.0), (170, 0.0), (171, 0.0), (172, 0.042562826537937436), (173, 0.0), (174, 0.07259540086406278), (175, 0.0), (176, 0.03940552031195503), (177, 0.044455422447438706), (178, 0.0), (179, 0.0), (180, 0.08695652173913045), (181, 0.0), (182, 0.0), (183, 0.0), (184, 0.0), (185, 0.0), (186, 0.0), (187, 0.0), (188, 0.0), (189, 0.049147318718299055), (190, 0.0), (191, 0.042562826537937436), (192, 0.09325048082403138), (193, 0.0), (194, 0.0), (195, 0.0), (196, 0.16357216402190616), (197, 0.0), (198, 0.0), (199, 0.0), (200, 0.0), (201, 0.0), (202, 0.0), (203, 0.0), (204, 0.0), (205, 0.044455422447438706), (206, 0.0), (207, 0.0), (208, 0.0), (209, 0.09100315103865803), (210, 0.08025723539051281), (211, 0.0), (212, 0.0), (213, 0.04550157551932901), (214, 0.04662524041201569), (215, 0.0), (216, 0.04662524041201569), (217, 0.0761386987626881), (218, 0.0), (219, 0.04550157551932901), (220, 0.0), (221, 0.0), (222, 0.044455422447438706), (223, 0.08178608201095308), (224, 0.0), (225, 0.0), (226, 0.04662524041201569), (227, 0.0), (228, 0.0), (229, 0.0), (230, 0.0), (231, 0.0), (232, 0.0), (233, 0.0), (234, 0.0), (235, 0.0), (236, 0.040128617695256406), (237, 0.04347826086956522), (238, 0.0), (239, 0.037450294313656915), (240, 0.0), (241, 0.0), (242, 0.0), (243, 0.0), (244, 0.09100315103865803), (245, 0.0), (246, 0.04089304100547654), (247, 0.08340576562282992), (248, 0.16681153124565984), (249, 0.0), (250, 0.049147318718299055), (251, 0.0), (252, 0.04550157551932901), (253, 0.038720154633118314), (254, 0.0), (255, 0.0), (256, 0.0), (257, 0.04347826086956522), (258, 0.0), (259, 0.0), (260, 0.0), (261, 0.0), (262, 0.0), (263, 0.0), (264, 0.047836487323493986), (265, 0.0), (266, 0.0), (267, 0.04170288281141496), (268, 0.0), (269, 0.040128617695256406), (270, 0.042562826537937436), (271, 0.0), (272, 0.0), (273, 0.0), (274, 0.04550157551932901), (275, 0.0), (276, 0.0), (277, 0.0), (278, 0.11420804814403215), (279, 0.04347826086956522), (280, 0.04089304100547654), (281, 0.042562826537937436), (282, 0.0), (283, 0.035245368842512066), (284, 0.042562826537937436), (285, 0.0), (286, 0.04347826086956522), (287, 0.04662524041201569), (288, 0.044455422447438706), (289, 0.08340576562282992), (290, 0.0), (291, 0.0), (292, 0.0), (293, 0.0), (294, 0.0), (295, 0.04089304100547654), (296, 0.0), (297, 0.08891084489487741), (298, 0.04662524041201569), (299, 0.0), (300, 0.0), (301, 0.04170288281141496), (302, 0.0), (303, 0.0), (304, 0.0), (305, 0.03806934938134405), (306, 0.044455422447438706), (307, 0.0), (308, 0.0), (309, 0.0), (310, 0.044455422447438706), (311, 0.0), (312, 0.042562826537937436), (313, 0.0), (314, 0.09100315103865803), (315, 0.0), (316, 0.04347826086956522), (317, 0.04347826086956522), (318, 0.0), (319, 0.0), (320, 0.0), (321, 0.0), (322, 0.0), (323, 0.05057217374241736), (324, 0.044455422447438706), (325, 0.0), (326, 0.17025130615174974), (327, 0.047836487323493986), (328, 0.042562826537937436), (329, 0.0), (330, 0.0), (331, 0.0), (332, 0.0), (333, 0.040128617695256406), (334, 0.0), (335, 0.042562826537937436), (336, 0.0), (337, 0.0), (338, 0.0), (339, 0.08512565307587487), (340, 0.0), (341, 0.0), (342, 0.040128617695256406), (343, 0.044455422447438706), (344, 0.0), (345, 0.0), (346, 0.042562826537937436), (347, 0.0), (348, 0.0), (349, 0.04170288281141496), (350, 0.0), (351, 0.044455422447438706), (352, 0.0), (353, 0.0), (354, 0.1276884796138123), (355, 0.0), (356, 0.0), (357, 0.053838190205816545), (358, 0.0), (359, 0.0), (360, 0.044455422447438706), (361, 0.0), (362, 0.0), (363, 0.04170288281141496), (364, 0.0), (365, 0.04089304100547654), (366, 0.0), (367, 0.0), (368, 0.0), (369, 0.0), (370, 0.0), (371, 0.0), (372, 0.09325048082403138), (373, 0.0), (374, 0.0), (375, 0.0), (376, 0.042562826537937436), (377, 0.1333662673423161), (378, 0.04347826086956522), (379, 0.042562826537937436), (380, 0.03940552031195503), (381, 0.0), (382, 0.09100315103865803), (383, 0.042562826537937436), (384, 0.044455422447438706), (385, 0.0), (386, 0.044455422447438706), (387, 0.0), (388, 0.08695652173913045), (389, 0.0), (390, 0.04550157551932901), (391, 0.0), (392, 0.0), (393, 0.0), (394, 0.0), (395, 0.0), (396, 0.09100315103865803), (397, 0.0), (398, 0.09325048082403138), (399, 0.0), (400, 0.0), (401, 0.0), (402, 0.0), (403, 0.0), (404, 0.04089304100547654), (405, 0.03427955850955305), (406, 0.04347826086956522), (407, 0.1872514715682846), (408, 0.04662524041201569), (409, 0.04089304100547654), (410, 0.04089304100547654), (411, 0.0), (412, 0.0), (413, 0.0), (414, 0.0), (415, 0.0), (416, 0.1276884796138123), (417, 0.0), (418, 0.049147318718299055), (419, 0.0), (420, 0.0), (421, 0.13043478260869568), (422, 0.0), (423, 0.0), (424, 0.0), (425, 0.0), (426, 0.04170288281141496), (427, 0.0), (428, 0.0), (429, 0.04347826086956522), (430, 0.038720154633118314), (431, 0.0), (432, 0.044455422447438706), (433, 0.0), (434, 0.047836487323493986), (435, 0.044455422447438706), (436, 0.05783149319662403), (437, 0.0), (438, 0.04662524041201569), (439, 0.04347826086956522), (440, 0.04347826086956522), (441, 0.0), (442, 0.11616046389935494), (443, 0.0), (444, 0.037450294313656915), (445, 0.0), (446, 0.0), (447, 0.04550157551932901), (448, 0.030743773095067286), (449, 0.0), (450, 0.0), (451, 0.04089304100547654), (452, 0.037450294313656915), (453, 0.0), (454, 0.044455422447438706), (455, 0.044455422447438706), (456, 0.1522773975253762), (457, 0.047836487323493986), (458, 0.0), (459, 0.0), (460, 0.0), (461, 0.0), (462, 0.04550157551932901), (463, 0.047836487323493986), (464, 0.0), (465, 0.0), (466, 0.0), (467, 0.04662524041201569), (468, 0.0), (469, 0.0), (470, 0.04347826086956522), (471, 0.0), (472, 0.0), (473, 0.0), (474, 0.04550157551932901), (475, 0.04662524041201569), (476, 0.0), (477, 0.044455422447438706), (478, 0.0), (479, 0.0), (480, 0.0), (481, 0.0), (482, 0.04170288281141496), (483, 0.04170288281141496), (484, 0.04347826086956522), (485, 0.042562826537937436), (486, 0.0), (487, 0.0), (488, 0.0), (489, 0.0), (490, 0.1276884796138123), (491, 0.040128617695256406), (492, 0.05057217374241736), (493, 0.044455422447438706), (494, 0.04170288281141496), (495, 0.042562826537937436), (496, 0.0), (497, 0.09325048082403138), (498, 0.0), (499, 0.0), (500, 0.0), (501, 0.0), (502, 0.0), (503, 0.0), (504, 0.0), (505, 0.0), (506, 0.0), (507, 0.0), (508, 0.0), (509, 0.04550157551932901), (510, 0.042562826537937436), (511, 0.0), (512, 0.0), (513, 0.04347826086956522), (514, 0.0), (515, 0.0), (516, 0.0), (517, 0.0), (518, 0.05057217374241736), (519, 0.0), (520, 0.0), (521, 0.044455422447438706), (522, 0.0), (523, 0.0), (524, 0.044455422447438706), (525, 0.0), (526, 0.04550157551932901), (527, 0.0), (528, 0.04347826086956522), (529, 0.049147318718299055), (530, 0.0), (531, 0.0), (532, 0.0), (533, 0.0), (534, 0.0), (535, 0.04089304100547654), (536, 0.038720154633118314), (537, 0.04662524041201569), (538, 0.04170288281141496), (539, 0.0), (540, 0.0), (541, 0.0), (542, 0.042562826537937436), (543, 0.0), (544, 0.04347826086956522), (545, 0.03940552031195503), (546, 0.0), (547, 0.0), (548, 0.0), (549, 0.0), (550, 0.0), (551, 0.0), (552, 0.044455422447438706), (553, 0.04662524041201569), (554, 0.0), (555, 0.0), (556, 0.03940552031195503), (557, 0.042562826537937436), (558, 0.042562826537937436), (559, 0.08891084489487741), (560, 0.0), (561, 0.034752402342845795), (562, 0.044455422447438706), (563, 0.0), (564, 0.044455422447438706), (565, 0.0), (566, 0.03806934938134405), (567, 0.0), (568, 0.0), (569, 0.0), (570, 0.0), (571, 0.1333662673423161), (572, 0.0), (573, 0.0), (574, 0.0), (575, 0.04089304100547654), (576, 0.07881104062391006), (577, 0.0), (578, 0.04089304100547654), (579, 0.0), (580, 0.0), (581, 0.0), (582, 0.0), (583, 0.1739130434782609), (584, 0.0), (585, 0.04347826086956522), (586, 0.03296902366978935), (587, 0.0), (588, 0.053838190205816545), (589, 0.04347826086956522), (590, 0.08891084489487741), (591, 0.0), (592, 0.17782168978975482), (593, 0.047836487323493986), (594, 0.0), (595, 0.0), (596, 0.0), (597, 0.0), (598, 0.04347826086956522), (599, 0.03427955850955305), (600, 0.0), (601, 0.0), (602, 0.0), (603, 0.0), (604, 0.042562826537937436), (605, 0.0), (606, 0.044455422447438706), (607, 0.0), (608, 0.08178608201095308), (609, 0.0), (610, 0.0), (611, 0.042562826537937436), (612, 0.09100315103865803), (613, 0.08695652173913045), (614, 0.0), (615, 0.0), (616, 0.0), (617, 0.044455422447438706), (618, 0.0), (619, 0.0), (620, 0.047836487323493986), (621, 0.03940552031195503), (622, 0.08340576562282992), (623, 0.0), (624, 0.0), (625, 0.042562826537937436), (626, 0.044455422447438706), (627, 0.0), (628, 0.030096463271442307), (629, 0.037450294313656915), (630, 0.0), (631, 0.0), (632, 0.09325048082403138), (633, 0.08695652173913045), (634, 0.0), (635, 0.04662524041201569), (636, 0.044455422447438706), (637, 0.04550157551932901), (638, 0.0), (639, 0.0), (640, 0.0), (641, 0.04662524041201569), (642, 0.03575992699260758), (643, 0.0), (644, 0.0), (645, 0.042562826537937436), (646, 0.0), (647, 0.044455422447438706), (648, 0.04347826086956522), (649, 0.0), (650, 0.08512565307587487), (651, 0.04662524041201569), (652, 0.04347826086956522), (653, 0.0), (654, 0.042562826537937436), (655, 0.0), (656, 0.042562826537937436), (657, 0.0), (658, 0.036860489038724284), (659, 0.0), (660, 0.1276884796138123), (661, 0.0), (662, 0.9999999999999999), (663, 0.09325048082403138), (664, 0.0), (665, 0.0), (666, 0.0), (667, 0.08178608201095308), (668, 0.0), (669, 0.0), (670, 0.04170288281141496), (671, 0.04347826086956522), (672, 0.08891084489487741), (673, 0.0), (674, 0.049147318718299055), (675, 0.0), (676, 0.08695652173913045), (677, 0.04550157551932901), (678, 0.053838190205816545), (679, 0.0), (680, 0.08178608201095308), (681, 0.040128617695256406), (682, 0.0), (683, 0.0), (684, 0.042562826537937436), (685, 0.042562826537937436), (686, 0.0), (687, 0.044455422447438706), (688, 0.0), (689, 0.04550157551932901), (690, 0.08178608201095308), (691, 0.0), (692, 0.0), (693, 0.12267912301642962), (694, 0.08340576562282992), (695, 0.040128617695256406), (696, 0.04347826086956522), (697, 0.044455422447438706), (698, 0.044455422447438706), (699, 0.0), (700, 0.0), (701, 0.0), (702, 0.09325048082403138), (703, 0.0), (704, 0.0), (705, 0.0), (706, 0.0), (707, 0.0), (708, 0.0), (709, 0.047836487323493986), (710, 0.04170288281141496), (711, 0.0), (712, 0.04170288281141496), (713, 0.03940552031195503), (714, 0.042562826537937436), (715, 0.0), (716, 0.049147318718299055), (717, 0.08891084489487741), (718, 0.0), (719, 0.0), (720, 0.042562826537937436), (721, 0.04550157551932901), (722, 0.04550157551932901), (723, 0.0), (724, 0.04550157551932901), (725, 0.0), (726, 0.0), (727, 0.0), (728, 0.0), (729, 0.09325048082403138), (730, 0.0), (731, 0.0), (732, 0.0), (733, 0.047836487323493986), (734, 0.0), (735, 0.0), (736, 0.0), (737, 0.04170288281141496), (738, 0.08340576562282992), (739, 0.0), (740, 0.044455422447438706), (741, 0.04170288281141496), (742, 0.0), (743, 0.04550157551932901), (744, 0.0), (745, 0.0), (746, 0.0), (747, 0.047836487323493986), (748, 0.04662524041201569), (749, 0.04347826086956522), (750, 0.0), (751, 0.0), (752, 0.040128617695256406), (753, 0.0), (754, 0.0), (755, 0.0), (756, 0.04550157551932901), (757, 0.04662524041201569), (758, 0.04347826086956522), (759, 0.0), (760, 0.0), (761, 0.04347826086956522), (762, 0.04347826086956522), (763, 0.04662524041201569), (764, 0.04550157551932901), (765, 0.044455422447438706), (766, 0.0), (767, 0.042562826537937436), (768, 0.0), (769, 0.09567297464698797), (770, 0.0), (771, 0.09100315103865803), (772, 0.04662524041201569), (773, 0.09325048082403138), (774, 0.05057217374241736), (775, 0.0), (776, 0.04662524041201569), (777, 0.04347826086956522), (778, 0.0), (779, 0.044455422447438706), (780, 0.0), (781, 0.0), (782, 0.040128617695256406), (783, 0.04170288281141496), (784, 0.04089304100547654), (785, 0.04170288281141496), (786, 0.0), (787, 0.0), (788, 0.0), (789, 0.04347826086956522), (790, 0.0), (791, 0.0), (792, 0.0), (793, 0.0), (794, 0.0), (795, 0.040128617695256406), (796, 0.0), (797, 0.0), (798, 0.0), (799, 0.0), (800, 0.07744030926623663), (801, 0.04347826086956522), (802, 0.0), (803, 0.049147318718299055), (804, 0.04550157551932901), (805, 0.0), (806, 0.04089304100547654), (807, 0.04170288281141496), (808, 0.044455422447438706), (809, 0.042562826537937436), (810, 0.04089304100547654), (811, 0.0), (812, 0.08512565307587487), (813, 0.0), (814, 0.0), (815, 0.04347826086956522), (816, 0.0), (817, 0.0), (818, 0.04662524041201569), (819, 0.0), (820, 0.04662524041201569), (821, 0.044455422447438706), (822, 0.08891084489487741), (823, 0.04347826086956522), (824, 0.04347826086956522), (825, 0.044455422447438706), (826, 0.044455422447438706), (827, 0.1333662673423161), (828, 0.04550157551932901), (829, 0.0), (830, 0.15488061853247326), (831, 0.0), (832, 0.0), (833, 0.0), (834, 0.04550157551932901), (835, 0.0), (836, 0.0), (837, 0.0), (838, 0.08512565307587487), (839, 0.044455422447438706), (840, 0.0), (841, 0.0), (842, 0.0), (843, 0.0), (844, 0.042562826537937436), (845, 0.04550157551932901), (846, 0.0), (847, 0.04550157551932901), (848, 0.0), (849, 0.04662524041201569), (850, 0.04170288281141496), (851, 0.04089304100547654), (852, 0.04662524041201569), (853, 0.04662524041201569), (854, 0.0), (855, 0.036860489038724284), (856, 0.0), (857, 0.0), (858, 0.0), (859, 0.0), (860, 0.04550157551932901), (861, 0.042562826537937436), (862, 0.04347826086956522), (863, 0.0), (864, 0.0), (865, 0.04550157551932901), (866, 0.0), (867, 0.04089304100547654), (868, 0.04170288281141496), (869, 0.0), (870, 0.0), (871, 0.044455422447438706), (872, 0.04550157551932901), (873, 0.0), (874, 0.0), (875, 0.042562826537937436), (876, 0.0), (877, 0.04347826086956522), (878, 0.0761386987626881), (879, 0.044455422447438706), (880, 0.0), (881, 0.053838190205816545), (882, 0.04550157551932901), (883, 0.042562826537937436), (884, 0.04662524041201569), (885, 0.0), (886, 0.0), (887, 0.0), (888, 0.0), (889, 0.040128617695256406), (890, 0.04550157551932901), (891, 0.04662524041201569), (892, 0.044455422447438706), (893, 0.0), (894, 0.0), (895, 0.0), (896, 0.0), (897, 0.0), (898, 0.044455422447438706), (899, 0.0), (900, 0.0), (901, 0.0), (902, 0.044455422447438706), (903, 0.0), (904, 0.0), (905, 0.047836487323493986), (906, 0.04662524041201569), (907, 0.0), (908, 0.0), (909, 0.042562826537937436), (910, 0.0), (911, 0.0), (912, 0.09325048082403138), (913, 0.0), (914, 0.0), (915, 0.044455422447438706), (916, 0.0), (917, 0.0), (918, 0.044455422447438706), (919, 0.09100315103865803), (920, 0.04170288281141496), (921, 0.049147318718299055), (922, 0.040128617695256406), (923, 0.0), (924, 0.08695652173913045), (925, 0.04170288281141496), (926, 0.0), (927, 0.0), (928, 0.13650472655798704), (929, 0.04347826086956522), (930, 0.0), (931, 0.0), (932, 0.0), (933, 0.042562826537937436), (934, 0.04347826086956522), (935, 0.0), (936, 0.0), (937, 0.0), (938, 0.04662524041201569), (939, 0.038720154633118314), (940, 0.04550157551932901), (941, 0.04089304100547654), (942, 0.0), (943, 0.0), (944, 0.04170288281141496), (945, 0.04550157551932901), (946, 0.11420804814403215), (947, 0.0), (948, 0.0), (949, 0.0), (950, 0.08891084489487741), (951, 0.0), (952, 0.0), (953, 0.0), (954, 0.09100315103865803), (955, 0.0), (956, 0.0), (957, 0.0), (958, 0.04662524041201569), (959, 0.0), (960, 0.04550157551932901), (961, 0.08695652173913045), (962, 0.040128617695256406), (963, 0.0), (964, 0.049147318718299055), (965, 0.04550157551932901), (966, 0.0), (967, 0.05212860351426869), (968, 0.09325048082403138), (969, 0.0), (970, 0.04662524041201569), (971, 0.040128617695256406), (972, 0.0), (973, 0.037450294313656915), (974, 0.040128617695256406), (975, 0.049147318718299055), (976, 0.0), (977, 0.03806934938134405), (978, 0.042562826537937436), (979, 0.042562826537937436), (980, 0.04550157551932901), (981, 0.0), (982, 0.04170288281141496), (983, 0.038720154633118314), (984, 0.0), (985, 0.044455422447438706), (986, 0.047836487323493986), (987, 0.04347826086956522), (988, 0.08695652173913045), (989, 0.0), (990, 0.11420804814403215), (991, 0.04662524041201569), (992, 0.0), (993, 0.04550157551932901), (994, 0.0), (995, 0.044455422447438706), (996, 0.12038585308576921), (997, 0.0), (998, 0.0), (999, 0.040128617695256406), (1000, 0.04170288281141496), (1001, 0.0), (1002, 0.09325048082403138), (1003, 0.03806934938134405), (1004, 0.04347826086956522), (1005, 0.03575992699260758), (1006, 0.0), (1007, 0.038720154633118314), (1008, 0.0), (1009, 0.04550157551932901), (1010, 0.23312620206007845), (1011, 0.0), (1012, 0.044455422447438706), (1013, 0.0), (1014, 0.0), (1015, 0.04662524041201569), (1016, 0.0), (1017, 0.0), (1018, 0.042562826537937436), (1019, 0.0), (1020, 0.0), (1021, 0.0), (1022, 0.042562826537937436), (1023, 0.08178608201095308), (1024, 0.0), (1025, 0.04347826086956522), (1026, 0.04347826086956522), (1027, 0.0), (1028, 0.038720154633118314), (1029, 0.0), (1030, 0.08695652173913045), (1031, 0.0), (1032, 0.0), (1033, 0.0), (1034, 0.0), (1035, 0.042562826537937436), (1036, 0.08178608201095308), (1037, 0.04662524041201569), (1038, 0.08891084489487741), (1039, 0.05212860351426869), (1040, 0.0), (1041, 0.0), (1042, 0.053838190205816545), (1043, 0.0), (1044, 0.0), (1045, 0.04347826086956522), (1046, 0.04347826086956522), (1047, 0.035245368842512066), (1048, 0.04089304100547654), (1049, 0.044455422447438706), (1050, 0.0), (1051, 0.04550157551932901), (1052, 0.038720154633118314), (1053, 0.0), (1054, 0.042562826537937436), (1055, 0.0), (1056, 0.0), (1057, 0.08891084489487741), (1058, 0.0), (1059, 0.0), (1060, 0.05057217374241736), (1061, 0.038720154633118314), (1062, 0.0), (1063, 0.0), (1064, 0.0), (1065, 0.03940552031195503), (1066, 0.04662524041201569), (1067, 0.0), (1068, 0.0), (1069, 0.05212860351426869), (1070, 0.0), (1071, 0.0), (1072, 0.053838190205816545), (1073, 0.04170288281141496), (1074, 0.0), (1075, 0.03806934938134405), (1076, 0.044455422447438706), (1077, 0.0), (1078, 0.0), (1079, 0.08695652173913045), (1080, 0.04170288281141496), (1081, 0.09325048082403138), (1082, 0.07744030926623663), (1083, 0.0), (1084, 0.040128617695256406), (1085, 0.0), (1086, 0.07881104062391006), (1087, 0.04550157551932901), (1088, 0.0), (1089, 0.044455422447438706), (1090, 0.04347826086956522), (1091, 0.044455422447438706), (1092, 0.0), (1093, 0.0), (1094, 0.042562826537937436), (1095, 0.04347826086956522), (1096, 0.0), (1097, 0.0), (1098, 0.044455422447438706), (1099, 0.0), (1100, 0.0), (1101, 0.0), (1102, 0.04089304100547654), (1103, 0.0), (1104, 0.0), (1105, 0.12510864843424488), (1106, 0.0), (1107, 0.04550157551932901), (1108, 0.0), (1109, 0.04550157551932901), (1110, 0.0), (1111, 0.03940552031195503), (1112, 0.04089304100547654), (1113, 0.04662524041201569), (1114, 0.0), (1115, 0.0), (1116, 0.04347826086956522), (1117, 0.04170288281141496), (1118, 0.0), (1119, 0.0), (1120, 0.04347826086956522), (1121, 0.0), (1122, 0.0), (1123, 0.04347826086956522), (1124, 0.0), (1125, 0.044455422447438706), (1126, 0.0), (1127, 0.04347826086956522), (1128, 0.04089304100547654), (1129, 0.04347826086956522), (1130, 0.0), (1131, 0.042562826537937436), (1132, 0.0), (1133, 0.04347826086956522), (1134, 0.0), (1135, 0.13987572123604708), (1136, 0.07881104062391006), (1137, 0.0), (1138, 0.0), (1139, 0.0), (1140, 0.0), (1141, 0.04662524041201569), (1142, 0.0), (1143, 0.04550157551932901), (1144, 0.0), (1145, 0.03806934938134405), (1146, 0.040128617695256406), (1147, 0.04662524041201569), (1148, 0.09325048082403138), (1149, 0.09325048082403138), (1150, 0.04170288281141496), (1151, 0.038720154633118314), (1152, 0.0), (1153, 0.0), (1154, 0.04170288281141496), (1155, 0.0), (1156, 0.044455422447438706), (1157, 0.0), (1158, 0.04170288281141496), (1159, 0.0), (1160, 0.0), (1161, 0.13987572123604708), (1162, 0.04550157551932901), (1163, 0.04662524041201569), (1164, 0.044455422447438706), (1165, 0.0), (1166, 0.0), (1167, 0.0), (1168, 0.047836487323493986), (1169, 0.05057217374241736), (1170, 0.044455422447438706), (1171, 0.0), (1172, 0.04550157551932901), (1173, 0.0), (1174, 0.0), (1175, 0.07744030926623663), (1176, 0.04170288281141496), (1177, 0.0685591170191061), (1178, 0.044455422447438706), (1179, 0.0), (1180, 0.0), (1181, 0.04170288281141496), (1182, 0.0), (1183, 0.10114434748483472), (1184, 0.03940552031195503), (1185, 0.0), (1186, 0.07259540086406278), (1187, 0.04550157551932901), (1188, 0.11821656093586509), (1189, 0.0), (1190, 0.044455422447438706), (1191, 0.03940552031195503), (1192, 0.0), (1193, 0.03629770043203139), (1194, 0.09325048082403138), (1195, 0.0), (1196, 0.08891084489487741), (1197, 0.0), (1198, 0.0), (1199, 0.04170288281141496), (1200, 0.0), (1201, 0.0), (1202, 0.044455422447438706), (1203, 0.047836487323493986), (1204, 0.04550157551932901), (1205, 0.04550157551932901), (1206, 0.04662524041201569), (1207, 0.0), (1208, 0.049147318718299055), (1209, 0.04347826086956522), (1210, 0.0), (1211, 0.04550157551932901), (1212, 0.0), (1213, 0.0), (1214, 0.04347826086956522), (1215, 0.07881104062391006), (1216, 0.040128617695256406), (1217, 0.0), (1218, 0.0), (1219, 0.04550157551932901), (1220, 0.0), (1221, 0.09100315103865803), (1222, 0.0), (1223, 0.03940552031195503), (1224, 0.0), (1225, 0.0), (1226, 0.04089304100547654), (1227, 0.04550157551932901), (1228, 0.04550157551932901), (1229, 0.0), (1230, 0.0), (1231, 0.042562826537937436), (1232, 0.042562826537937436), (1233, 0.04347826086956522), (1234, 0.0), (1235, 0.04662524041201569), (1236, 0.04170288281141496), (1237, 0.0), (1238, 0.04550157551932901), (1239, 0.04170288281141496), (1240, 0.042562826537937436), (1241, 0.05212860351426869), (1242, 0.04662524041201569), (1243, 0.08512565307587487), (1244, 0.0), (1245, 0.042562826537937436), (1246, 0.049147318718299055), (1247, 0.04662524041201569), (1248, 0.05057217374241736), (1249, 0.0), (1250, 0.044455422447438706), (1251, 0.04347826086956522), (1252, 0.08695652173913045), (1253, 0.10114434748483472), (1254, 0.04347826086956522), (1255, 0.044455422447438706), (1256, 0.0), (1257, 0.0), (1258, 0.10767638041163309), (1259, 0.0), (1260, 0.0), (1261, 0.0), (1262, 0.0), (1263, 0.04662524041201569), (1264, 0.05057217374241736), (1265, 0.0), (1266, 0.0), (1267, 0.0), (1268, 0.0), (1269, 0.10767638041163309), (1270, 0.0), (1271, 0.0), (1272, 0.0), (1273, 0.05057217374241736), (1274, 0.0), (1275, 0.0), (1276, 0.05057217374241736), (1277, 0.0), (1278, 0.05057217374241736), (1279, 0.0), (1280, 0.09829463743659811), (1281, 0.040128617695256406), (1282, 0.042562826537937436), (1283, 0.04550157551932901), (1284, 0.04347826086956522), (1285, 0.0), (1286, 0.03940552031195503), (1287, 0.0), (1288, 0.0), (1289, 0.0), (1290, 0.0), (1291, 0.044455422447438706), (1292, 0.0), (1293, 0.04170288281141496), (1294, 0.0), (1295, 0.05212860351426869), (1296, 0.036860489038724284), (1297, 0.0), (1298, 0.04089304100547654), (1299, 0.0), (1300, 0.0), (1301, 0.0), (1302, 0.0), (1303, 0.03940552031195503), (1304, 0.03629770043203139), (1305, 0.049147318718299055), (1306, 0.0), (1307, 0.042562826537937436), (1308, 0.040128617695256406), (1309, 0.09567297464698797), (1310, 0.0), (1311, 0.047836487323493986), (1312, 0.0), (1313, 0.0), (1314, 0.09100315103865803), (1315, 0.12038585308576921), (1316, 0.047836487323493986), (1317, 0.04089304100547654), (1318, 0.04347826086956522), (1319, 0.044455422447438706), (1320, 0.0), (1321, 0.0), (1322, 0.0), (1323, 0.04170288281141496), (1324, 0.05057217374241736), (1325, 0.04662524041201569), (1326, 0.0), (1327, 0.044455422447438706), (1328, 0.040128617695256406), (1329, 0.04347826086956522), (1330, 0.13650472655798704), (1331, 0.0), (1332, 0.04089304100547654), (1333, 0.04170288281141496), (1334, 0.0), (1335, 0.0), (1336, 0.04550157551932901), (1337, 0.044455422447438706), (1338, 0.04089304100547654), (1339, 0.0), (1340, 0.0), (1341, 0.0), (1342, 0.047836487323493986), (1343, 0.044455422447438706), (1344, 0.0), (1345, 0.047836487323493986), (1346, 0.0), (1347, 0.04550157551932901), (1348, 0.04550157551932901), (1349, 0.04662524041201569), (1350, 0.047836487323493986), (1351, 0.044455422447438706), (1352, 0.0), (1353, 0.09567297464698797), (1354, 0.0), (1355, 0.0), (1356, 0.0), (1357, 0.05212860351426869), (1358, 0.0), (1359, 0.08340576562282992), (1360, 0.04347826086956522), (1361, 0.0), (1362, 0.04550157551932901), (1363, 0.0), (1364, 0.0), (1365, 0.04089304100547654), (1366, 0.08695652173913045), (1367, 0.0), (1368, 0.0), (1369, 0.0), (1370, 0.04550157551932901), (1371, 0.0), (1372, 0.0), (1373, 0.08340576562282992), (1374, 0.04550157551932901), (1375, 0.0), (1376, 0.0), (1377, 0.0), (1378, 0.0), (1379, 0.0), (1380, 0.047836487323493986), (1381, 0.047836487323493986), (1382, 0.0), (1383, 0.05057217374241736), (1384, 0.0), (1385, 0.0), (1386, 0.04662524041201569), (1387, 0.04347826086956522), (1388, 0.0), (1389, 0.0), (1390, 0.0), (1391, 0.0), (1392, 0.04662524041201569), (1393, 0.04170288281141496), (1394, 0.04550157551932901), (1395, 0.0), (1396, 0.04550157551932901), (1397, 0.0), (1398, 0.0), (1399, 0.0), (1400, 0.0), (1401, 0.04347826086956522), (1402, 0.0), (1403, 0.0), (1404, 0.0), (1405, 0.04170288281141496), (1406, 0.042562826537937436), (1407, 0.04347826086956522), (1408, 0.04089304100547654), (1409, 0.04662524041201569), (1410, 0.0), (1411, 0.04550157551932901), (1412, 0.0), (1413, 0.047836487323493986), (1414, 0.0), (1415, 0.0), (1416, 0.0), (1417, 0.0), (1418, 0.044455422447438706), (1419, 0.0), (1420, 0.0), (1421, 0.042562826537937436), (1422, 0.12510864843424488), (1423, 0.0), (1424, 0.08891084489487741), (1425, 0.0), (1426, 0.0), (1427, 0.04550157551932901), (1428, 0.0), (1429, 0.044455422447438706), (1430, 0.0), (1431, 0.03940552031195503), (1432, 0.0), (1433, 0.04550157551932901), (1434, 0.0), (1435, 0.0), (1436, 0.0), (1437, 0.0), (1438, 0.04347826086956522), (1439, 0.036860489038724284), (1440, 0.08891084489487741), (1441, 0.04089304100547654), (1442, 0.044455422447438706), (1443, 0.0), (1444, 0.08025723539051281), (1445, 0.0), (1446, 0.12267912301642962), (1447, 0.0), (1448, 0.09567297464698797), (1449, 0.04347826086956522), (1450, 0.0), (1451, 0.04550157551932901), (1452, 0.03940552031195503), (1453, 0.0), (1454, 0.03940552031195503), (1455, 0.04662524041201569), (1456, 0.044455422447438706), (1457, 0.044455422447438706), (1458, 0.044455422447438706), (1459, 0.0), (1460, 0.042562826537937436), (1461, 0.042562826537937436), (1462, 0.04170288281141496), (1463, 0.0), (1464, 0.05572782125753529), (1465, 0.0), (1466, 0.0), (1467, 0.044455422447438706), (1468, 0.04089304100547654), (1469, 0.047836487323493986), (1470, 0.04550157551932901), (1471, 0.0), (1472, 0.042562826537937436), (1473, 0.04089304100547654), (1474, 0.05057217374241736), (1475, 0.0), (1476, 0.04550157551932901), (1477, 0.08891084489487741), (1478, 0.04347826086956522), (1479, 0.0), (1480, 0.0), (1481, 0.0), (1482, 0.0), (1483, 0.040128617695256406), (1484, 0.04347826086956522), (1485, 0.0), (1486, 0.044455422447438706), (1487, 0.047836487323493986), (1488, 0.0), (1489, 0.04662524041201569), (1490, 0.038720154633118314), (1491, 0.04347826086956522), (1492, 0.09100315103865803), (1493, 0.047836487323493986), (1494, 0.0), (1495, 0.042562826537937436), (1496, 0.0), (1497, 0.04089304100547654), (1498, 0.04347826086956522), (1499, 0.0), (1500, 0.0), (1501, 0.0), (1502, 0.04662524041201569), (1503, 0.05057217374241736), (1504, 0.0), (1505, 0.0), (1506, 0.04550157551932901), (1507, 0.04347826086956522), (1508, 0.04347826086956522), (1509, 0.18650096164806276), (1510, 0.0), (1511, 0.08340576562282992), (1512, 0.1739130434782609), (1513, 0.0), (1514, 0.0), (1515, 0.0), (1516, 0.04550157551932901), (1517, 0.0), (1518, 0.03940552031195503), (1519, 0.0), (1520, 0.0), (1521, 0.0), (1522, 0.05212860351426869), (1523, 0.04089304100547654), (1524, 0.0), (1525, 0.04662524041201569), (1526, 0.044455422447438706), (1527, 0.04550157551932901), (1528, 0.0), (1529, 0.04662524041201569), (1530, 0.04550157551932901), (1531, 0.0), (1532, 0.047836487323493986), (1533, 0.08695652173913045), (1534, 0.0), (1535, 0.04347826086956522), (1536, 0.0), (1537, 0.0), (1538, 0.037450294313656915), (1539, 0.042562826537937436), (1540, 0.04089304100547654), (1541, 0.0), (1542, 0.0), (1543, 0.042562826537937436), (1544, 0.05783149319662403), (1545, 0.04347826086956522), (1546, 0.0), (1547, 0.09325048082403138), (1548, 0.0), (1549, 0.0), (1550, 0.0), (1551, 0.0), (1552, 0.0), (1553, 0.17782168978975482), (1554, 0.0), (1555, 0.0), (1556, 0.037450294313656915), (1557, 0.08178608201095308), (1558, 0.0), (1559, 0.044455422447438706), (1560, 0.042562826537937436), (1561, 0.03940552031195503), (1562, 0.0), (1563, 0.040128617695256406), (1564, 0.14098147537004826), (1565, 0.04347826086956522), (1566, 0.042562826537937436), (1567, 0.0), (1568, 0.0), (1569, 0.0), (1570, 0.04347826086956522), (1571, 0.09100315103865803), (1572, 0.04662524041201569), (1573, 0.0), (1574, 0.049147318718299055), (1575, 0.04347826086956522), (1576, 0.0), (1577, 0.0), (1578, 0.0), (1579, 0.0), (1580, 0.0), (1581, 0.037450294313656915), (1582, 0.04347826086956522), (1583, 0.0), (1584, 0.044455422447438706), (1585, 0.0), (1586, 0.0), (1587, 0.12038585308576921), (1588, 0.08512565307587487), (1589, 0.044455422447438706), (1590, 0.036860489038724284), (1591, 0.040128617695256406), (1592, 0.0), (1593, 0.0), (1594, 0.13043478260869568), (1595, 0.09567297464698797), (1596, 0.04347826086956522), (1597, 0.053838190205816545), (1598, 0.047836487323493986), (1599, 0.04550157551932901), (1600, 0.047836487323493986), (1601, 0.05057217374241736), (1602, 0.0), (1603, 0.042562826537937436), (1604, 0.04550157551932901), (1605, 0.0), (1606, 0.0), (1607, 0.0), (1608, 0.0), (1609, 0.0), (1610, 0.0), (1611, 0.0), (1612, 0.040128617695256406), (1613, 0.042562826537937436), (1614, 0.0), (1615, 0.04550157551932901), (1616, 0.0), (1617, 0.0), (1618, 0.04347826086956522), (1619, 0.04662524041201569), (1620, 0.0), (1621, 0.0), (1622, 0.04089304100547654), (1623, 0.047836487323493986), (1624, 0.044455422447438706), (1625, 0.0), (1626, 0.038720154633118314), (1627, 0.0), (1628, 0.0), (1629, 0.05212860351426869), (1630, 0.0), (1631, 0.05057217374241736), (1632, 0.04550157551932901), (1633, 0.0), (1634, 0.0), (1635, 0.04347826086956522), (1636, 0.0), (1637, 0.04089304100547654), (1638, 0.08512565307587487), (1639, 0.0), (1640, 0.049147318718299055), (1641, 0.0), (1642, 0.04170288281141496), (1643, 0.0), (1644, 0.13987572123604708), (1645, 0.0), (1646, 0.04347826086956522), (1647, 0.042562826537937436), (1648, 0.04662524041201569), (1649, 0.047836487323493986), (1650, 0.0), (1651, 0.04170288281141496), (1652, 0.0), (1653, 0.0), (1654, 0.04170288281141496), (1655, 0.0), (1656, 0.0), (1657, 0.04170288281141496), (1658, 0.0), (1659, 0.04550157551932901), (1660, 0.12510864843424488), (1661, 0.044455422447438706), (1662, 0.042562826537937436), (1663, 0.08695652173913045), (1664, 0.040128617695256406), (1665, 0.047836487323493986), (1666, 0.042562826537937436), (1667, 0.047836487323493986), (1668, 0.04347826086956522), (1669, 0.042562826537937436), (1670, 0.04347826086956522), (1671, 0.12510864843424488), (1672, 0.037450294313656915), (1673, 0.0), (1674, 0.04662524041201569), (1675, 0.0), (1676, 0.0), (1677, 0.04347826086956522), (1678, 0.05212860351426869), (1679, 0.05212860351426869), (1680, 0.0), (1681, 0.0), (1682, 0.0), (1683, 0.0), (1684, 0.03940552031195503), (1685, 0.17782168978975482), (1686, 0.0), (1687, 0.04347826086956522), (1688, 0.13650472655798704), (1689, 0.0), (1690, 0.0), (1691, 0.04662524041201569), (1692, 0.053838190205816545), (1693, 0.09325048082403138), (1694, 0.04347826086956522), (1695, 0.0), (1696, 0.036860489038724284), (1697, 0.0), (1698, 0.1276884796138123), (1699, 0.0), (1700, 0.049147318718299055), (1701, 0.0), (1702, 0.0), (1703, 0.044455422447438706), (1704, 0.13987572123604708), (1705, 0.042562826537937436), (1706, 0.042562826537937436), (1707, 0.0), (1708, 0.0), (1709, 0.0), (1710, 0.04347826086956522), (1711, 0.0), (1712, 0.0), (1713, 0.0), (1714, 0.0), (1715, 0.0), (1716, 0.0), (1717, 0.042562826537937436), (1718, 0.0), (1719, 0.0), (1720, 0.03940552031195503), (1721, 0.0), (1722, 0.0), (1723, 0.0), (1724, 0.08891084489487741), (1725, 0.08178608201095308), (1726, 0.0), (1727, 0.04662524041201569), (1728, 0.044455422447438706), (1729, 0.0), (1730, 0.0), (1731, 0.03940552031195503), (1732, 0.05057217374241736), (1733, 0.0), (1734, 0.0), (1735, 0.0), (1736, 0.08512565307587487), (1737, 0.0), (1738, 0.04550157551932901), (1739, 0.05057217374241736), (1740, 0.038720154633118314), (1741, 0.0), (1742, 0.09100315103865803), (1743, 0.0), (1744, 0.08512565307587487), (1745, 0.03806934938134405), (1746, 0.049147318718299055), (1747, 0.09325048082403138), (1748, 0.04550157551932901), (1749, 0.04170288281141496), (1750, 0.0), (1751, 0.04347826086956522), (1752, 0.04089304100547654), (1753, 0.0), (1754, 0.04089304100547654), (1755, 0.0), (1756, 0.08340576562282992), (1757, 0.0), (1758, 0.08695652173913045), (1759, 0.044455422447438706), (1760, 0.09100315103865803), (1761, 0.042562826537937436), (1762, 0.0), (1763, 0.044455422447438706), (1764, 0.0), (1765, 0.044455422447438706), (1766, 0.0), (1767, 0.0), (1768, 0.044455422447438706), (1769, 0.0), (1770, 0.04662524041201569), (1771, 0.09567297464698797), (1772, 0.049147318718299055), (1773, 0.0), (1774, 0.042562826537937436), (1775, 0.05572782125753529), (1776, 0.04550157551932901), (1777, 0.0), (1778, 0.0), (1779, 0.0), (1780, 0.040128617695256406), (1781, 0.11616046389935494), (1782, 0.04347826086956522), (1783, 0.04662524041201569), (1784, 0.04347826086956522), (1785, 0.0), (1786, 0.08340576562282992), (1787, 0.08512565307587487), (1788, 0.0), (1789, 0.05057217374241736), (1790, 0.0), (1791, 0.0), (1792, 0.0), (1793, 0.09325048082403138), (1794, 0.0), (1795, 0.04089304100547654), (1796, 0.030743773095067286), (1797, 0.0), (1798, 0.0), (1799, 0.044455422447438706), (1800, 0.0), (1801, 0.0), (1802, 0.04170288281141496), (1803, 0.04662524041201569), (1804, 0.0), (1805, 0.04170288281141496), (1806, 0.04347826086956522), (1807, 0.0), (1808, 0.0), (1809, 0.04550157551932901), (1810, 0.04662524041201569), (1811, 0.04347826086956522), (1812, 0.04550157551932901), (1813, 0.04347826086956522), (1814, 0.04089304100547654), (1815, 0.0), (1816, 0.05057217374241736), (1817, 0.038720154633118314), (1818, 0.04170288281141496), (1819, 0.044455422447438706), (1820, 0.09100315103865803), (1821, 0.0), (1822, 0.0), (1823, 0.0), (1824, 0.05057217374241736), (1825, 0.0), (1826, 0.044455422447438706), (1827, 0.042562826537937436), (1828, 0.037450294313656915), (1829, 0.04170288281141496), (1830, 0.0), (1831, 0.042562826537937436), (1832, 0.04347826086956522), (1833, 0.0), (1834, 0.0), (1835, 0.0), (1836, 0.08340576562282992), (1837, 0.0), (1838, 0.047836487323493986), (1839, 0.044455422447438706), (1840, 0.04170288281141496), (1841, 0.04347826086956522), (1842, 0.04347826086956522), (1843, 0.04550157551932901), (1844, 0.044455422447438706), (1845, 0.0), (1846, 0.04550157551932901), (1847, 0.04347826086956522), (1848, 0.044455422447438706), (1849, 0.0), (1850, 0.04347826086956522), (1851, 0.0), (1852, 0.044455422447438706), (1853, 0.044455422447438706), (1854, 0.0), (1855, 0.038720154633118314), (1856, 0.0), (1857, 0.09829463743659811), (1858, 0.04347826086956522), (1859, 0.04347826086956522), (1860, 0.0), (1861, 0.0), (1862, 0.0), (1863, 0.05212860351426869), (1864, 0.08340576562282992), (1865, 0.0), (1866, 0.0), (1867, 0.044455422447438706), (1868, 0.04662524041201569), (1869, 0.04550157551932901), (1870, 0.08178608201095308), (1871, 0.0), (1872, 0.0), (1873, 0.053838190205816545), (1874, 0.04170288281141496), (1875, 0.04662524041201569), (1876, 0.040128617695256406), (1877, 0.038720154633118314), (1878, 0.03806934938134405), (1879, 0.053838190205816545), (1880, 0.04089304100547654), (1881, 0.04347826086956522), (1882, 0.0), (1883, 0.0), (1884, 0.04550157551932901), (1885, 0.04347826086956522), (1886, 0.04347826086956522), (1887, 0.0), (1888, 0.04170288281141496), (1889, 0.042562826537937436), (1890, 0.044455422447438706), (1891, 0.044455422447438706), (1892, 0.0), (1893, 0.0), (1894, 0.0), (1895, 0.04170288281141496), (1896, 0.0), (1897, 0.0), (1898, 0.0), (1899, 0.049147318718299055), (1900, 0.0), (1901, 0.053838190205816545), (1902, 0.0), (1903, 0.09100315103865803), (1904, 0.0), (1905, 0.044455422447438706), (1906, 0.0), (1907, 0.037450294313656915), (1908, 0.04662524041201569), (1909, 0.04550157551932901), (1910, 0.0), (1911, 0.07881104062391006), (1912, 0.04550157551932901), (1913, 0.053838190205816545), (1914, 0.0), (1915, 0.04347826086956522), (1916, 0.04662524041201569), (1917, 0.042562826537937436), (1918, 0.0), (1919, 0.0), (1920, 0.04550157551932901), (1921, 0.03940552031195503), (1922, 0.04347826086956522), (1923, 0.040128617695256406), (1924, 0.04662524041201569), (1925, 0.04662524041201569), (1926, 0.0), (1927, 0.09100315103865803), (1928, 0.04347826086956522), (1929, 0.09100315103865803), (1930, 0.0), (1931, 0.04662524041201569), (1932, 0.0), (1933, 0.0), (1934, 0.0), (1935, 0.04550157551932901), (1936, 0.0), (1937, 0.0), (1938, 0.08025723539051281), (1939, 0.0), (1940, 0.04170288281141496), (1941, 0.09325048082403138), (1942, 0.0), (1943, 0.049147318718299055), (1944, 0.042562826537937436), (1945, 0.042562826537937436), (1946, 0.04170288281141496), (1947, 0.0), (1948, 0.04089304100547654), (1949, 0.05212860351426869), (1950, 0.0), (1951, 0.0), (1952, 0.04089304100547654), (1953, 0.0), (1954, 0.047836487323493986), (1955, 0.0), (1956, 0.0), (1957, 0.047836487323493986), (1958, 0.04550157551932901), (1959, 0.0), (1960, 0.040128617695256406), (1961, 0.047836487323493986), (1962, 0.053838190205816545), (1963, 0.0), (1964, 0.0), (1965, 0.04089304100547654), (1966, 0.0), (1967, 0.03940552031195503), (1968, 0.0), (1969, 0.08695652173913045), (1970, 0.0), (1971, 0.0), (1972, 0.0), (1973, 0.04550157551932901), (1974, 0.04347826086956522), (1975, 0.0), (1976, 0.0), (1977, 0.0), (1978, 0.10114434748483472), (1979, 0.053838190205816545), (1980, 0.0), (1981, 0.0), (1982, 0.044455422447438706), (1983, 0.0), (1984, 0.0), (1985, 0.08178608201095308), (1986, 0.049147318718299055), (1987, 0.0), (1988, 0.0), (1989, 0.0), (1990, 0.0), (1991, 0.0), (1992, 0.04662524041201569), (1993, 0.0), (1994, 0.04089304100547654), (1995, 0.042562826537937436), (1996, 0.0), (1997, 0.044455422447438706), (1998, 0.04550157551932901), (1999, 0.0), (2000, 0.05212860351426869), (2001, 0.0), (2002, 0.0), (2003, 0.04170288281141496), (2004, 0.040128617695256406), (2005, 0.053838190205816545), (2006, 0.049147318718299055), (2007, 0.0), (2008, 0.04089304100547654), (2009, 0.047836487323493986), (2010, 0.05212860351426869), (2011, 0.053838190205816545), (2012, 0.044455422447438706), (2013, 0.04170288281141496), (2014, 0.0), (2015, 0.0), (2016, 0.036860489038724284), (2017, 0.040128617695256406), (2018, 0.0), (2019, 0.08178608201095308), (2020, 0.042562826537937436), (2021, 0.0), (2022, 0.03940552031195503), (2023, 0.0), (2024, 0.08891084489487741), (2025, 0.04347826086956522), (2026, 0.08178608201095308), (2027, 0.044455422447438706), (2028, 0.05212860351426869), (2029, 0.0), (2030, 0.04347826086956522), (2031, 0.04662524041201569), (2032, 0.044455422447438706), (2033, 0.0), (2034, 0.0), (2035, 0.0), (2036, 0.0), (2037, 0.047836487323493986), (2038, 0.04347826086956522), (2039, 0.03575992699260758), (2040, 0.040128617695256406), (2041, 0.04550157551932901), (2042, 0.0), (2043, 0.0), (2044, 0.04347826086956522), (2045, 0.047836487323493986), (2046, 0.0), (2047, 0.0), (2048, 0.047836487323493986), (2049, 0.0), (2050, 0.0), (2051, 0.08695652173913045), (2052, 0.040128617695256406), (2053, 0.04170288281141496), (2054, 0.0), (2055, 0.0), (2056, 0.0), (2057, 0.0), (2058, 0.14350946197048195), (2059, 0.05212860351426869), (2060, 0.038720154633118314), (2061, 0.04347826086956522), (2062, 0.042562826537937436), (2063, 0.04662524041201569), (2064, 0.03940552031195503), (2065, 0.0), (2066, 0.08025723539051281), (2067, 0.0), (2068, 0.03575992699260758), (2069, 0.0), (2070, 0.0), (2071, 0.08695652173913045), (2072, 0.04550157551932901), (2073, 0.04550157551932901), (2074, 0.0), (2075, 0.04662524041201569), (2076, 0.0), (2077, 0.04089304100547654), (2078, 0.04550157551932901), (2079, 0.11145564251507058), (2080, 0.04550157551932901), (2081, 0.05572782125753529), (2082, 0.04662524041201569), (2083, 0.0), (2084, 0.04089304100547654), (2085, 0.0), (2086, 0.0), (2087, 0.044455422447438706), (2088, 0.0), (2089, 0.0), (2090, 0.047836487323493986), (2091, 0.04170288281141496), (2092, 0.0), (2093, 0.0), (2094, 0.0), (2095, 0.0), (2096, 0.0), (2097, 0.0), (2098, 0.0), (2099, 0.04089304100547654), (2100, 0.0), (2101, 0.0), (2102, 0.04347826086956522), (2103, 0.04089304100547654), (2104, 0.04089304100547654), (2105, 0.04662524041201569), (2106, 0.036860489038724284), (2107, 0.0), (2108, 0.04170288281141496), (2109, 0.044455422447438706), (2110, 0.047836487323493986), (2111, 0.0), (2112, 0.0), (2113, 0.0), (2114, 0.0), (2115, 0.08512565307587487), (2116, 0.0), (2117, 0.042562826537937436), (2118, 0.07881104062391006), (2119, 0.0), (2120, 0.0), (2121, 0.042562826537937436), (2122, 0.0), (2123, 0.04550157551932901), (2124, 0.04347826086956522), (2125, 0.0), (2126, 0.042562826537937436), (2127, 0.040128617695256406), (2128, 0.04550157551932901), (2129, 0.0), (2130, 0.044455422447438706), (2131, 0.09325048082403138), (2132, 0.0), (2133, 0.12267912301642962), (2134, 0.04170288281141496), (2135, 0.044455422447438706), (2136, 0.0), (2137, 0.0), (2138, 0.03806934938134405), (2139, 0.0), (2140, 0.047836487323493986), (2141, 0.04550157551932901), (2142, 0.0), (2143, 0.0), (2144, 0.0), (2145, 0.044455422447438706), (2146, 0.0), (2147, 0.044455422447438706), (2148, 0.07744030926623663), (2149, 0.07881104062391006), (2150, 0.04662524041201569), (2151, 0.044455422447438706), (2152, 0.044455422447438706), (2153, 0.0), (2154, 0.09567297464698797), (2155, 0.0), (2156, 0.0), (2157, 0.0), (2158, 0.0), (2159, 0.042562826537937436), (2160, 0.0), (2161, 0.04662524041201569), (2162, 0.0), (2163, 0.0), (2164, 0.047836487323493986), (2165, 0.0), (2166, 0.04347826086956522), (2167, 0.0), (2168, 0.04347826086956522), (2169, 0.040128617695256406), (2170, 0.04662524041201569), (2171, 0.0), (2172, 0.049147318718299055), (2173, 0.04089304100547654), (2174, 0.0), (2175, 0.04550157551932901), (2176, 0.047836487323493986), (2177, 0.044455422447438706), (2178, 0.04089304100547654), (2179, 0.04347826086956522), (2180, 0.0), (2181, 0.0), (2182, 0.0), (2183, 0.03940552031195503), (2184, 0.0), (2185, 0.042562826537937436), (2186, 0.042562826537937436), (2187, 0.07744030926623663), (2188, 0.05057217374241736), (2189, 0.0), (2190, 0.07881104062391006), (2191, 0.04170288281141496), (2192, 0.04662524041201569), (2193, 0.049147318718299055), (2194, 0.0), (2195, 0.042562826537937436), (2196, 0.0), (2197, 0.0), (2198, 0.0), (2199, 0.0), (2200, 0.0), (2201, 0.0), (2202, 0.047836487323493986), (2203, 0.04089304100547654), (2204, 0.042562826537937436), (2205, 0.05057217374241736), (2206, 0.08891084489487741), (2207, 0.12267912301642962), (2208, 0.040128617695256406), (2209, 0.0), (2210, 0.04347826086956522), (2211, 0.044455422447438706), (2212, 0.0), (2213, 0.04089304100547654), (2214, 0.0), (2215, 0.047836487323493986), (2216, 0.04662524041201569), (2217, 0.08512565307587487), (2218, 0.04170288281141496), (2219, 0.04662524041201569), (2220, 0.0), (2221, 0.04170288281141496), (2222, 0.0), (2223, 0.09829463743659811), (2224, 0.04170288281141496), (2225, 0.03940552031195503), (2226, 0.0), (2227, 0.049147318718299055), (2228, 0.047836487323493986), (2229, 0.0), (2230, 0.0), (2231, 0.0), (2232, 0.044455422447438706), (2233, 0.08695652173913045), (2234, 0.08891084489487741), (2235, 0.0), (2236, 0.042562826537937436), (2237, 0.0), (2238, 0.04089304100547654), (2239, 0.042562826537937436), (2240, 0.09325048082403138), (2241, 0.04170288281141496), (2242, 0.05572782125753529), (2243, 0.08340576562282992), (2244, 0.0), (2245, 0.047836487323493986), (2246, 0.04550157551932901), (2247, 0.044455422447438706), (2248, 0.049147318718299055), (2249, 0.04662524041201569), (2250, 0.08891084489487741), (2251, 0.047836487323493986), (2252, 0.0), (2253, 0.0), (2254, 0.047836487323493986), (2255, 0.044455422447438706), (2256, 0.0), (2257, 0.13043478260869568), (2258, 0.0), (2259, 0.10425720702853739), (2260, 0.04089304100547654), (2261, 0.0), (2262, 0.038720154633118314), (2263, 0.0), (2264, 0.0), (2265, 0.04170288281141496), (2266, 0.09567297464698797), (2267, 0.047836487323493986), (2268, 0.047836487323493986), (2269, 0.04550157551932901), (2270, 0.0), (2271, 0.049147318718299055), (2272, 0.0), (2273, 0.05212860351426869), (2274, 0.0), (2275, 0.0), (2276, 0.13650472655798704), (2277, 0.04662524041201569), (2278, 0.036860489038724284), (2279, 0.0), (2280, 0.04550157551932901), (2281, 0.0), (2282, 0.04550157551932901), (2283, 0.0), (2284, 0.0), (2285, 0.0), (2286, 0.0), (2287, 0.04550157551932901), (2288, 0.04550157551932901), (2289, 0.04550157551932901), (2290, 0.049147318718299055), (2291, 0.04662524041201569), (2292, 0.05783149319662403), (2293, 0.0), (2294, 0.0), (2295, 0.0), (2296, 0.08340576562282992), (2297, 0.04662524041201569), (2298, 0.0), (2299, 0.0), (2300, 0.04662524041201569), (2301, 0.044455422447438706), (2302, 0.05057217374241736), (2303, 0.0), (2304, 0.04170288281141496), (2305, 0.04662524041201569), (2306, 0.04170288281141496), (2307, 0.04550157551932901), (2308, 0.0), (2309, 0.0), (2310, 0.08340576562282992), (2311, 0.0), (2312, 0.0), (2313, 0.08891084489487741), (2314, 0.08340576562282992), (2315, 0.0), (2316, 0.0), (2317, 0.0), (2318, 0.042562826537937436), (2319, 0.0), (2320, 0.0), (2321, 0.049147318718299055), (2322, 0.049147318718299055), (2323, 0.04347826086956522), (2324, 0.044455422447438706), (2325, 0.0), (2326, 0.047836487323493986), (2327, 0.04170288281141496), (2328, 0.04550157551932901), (2329, 0.0), (2330, 0.0), (2331, 0.04662524041201569), (2332, 0.047836487323493986), (2333, 0.044455422447438706), (2334, 0.12267912301642962), (2335, 0.04170288281141496), (2336, 0.040128617695256406), (2337, 0.044455422447438706), (2338, 0.0), (2339, 0.0), (2340, 0.044455422447438706), (2341, 0.042562826537937436), (2342, 0.044455422447438706), (2343, 0.0), (2344, 0.04662524041201569), (2345, 0.047836487323493986), (2346, 0.08025723539051281), (2347, 0.049147318718299055), (2348, 0.042562826537937436), (2349, 0.0), (2350, 0.04550157551932901), (2351, 0.0), (2352, 0.0), (2353, 0.04550157551932901), (2354, 0.04170288281141496), (2355, 0.0), (2356, 0.044455422447438706), (2357, 0.0), (2358, 0.04662524041201569), (2359, 0.04170288281141496), (2360, 0.0), (2361, 0.044455422447438706), (2362, 0.04347826086956522), (2363, 0.0), (2364, 0.05057217374241736), (2365, 0.12510864843424488), (2366, 0.04347826086956522), (2367, 0.05212860351426869), (2368, 0.04347826086956522), (2369, 0.05057217374241736), (2370, 0.0), (2371, 0.0), (2372, 0.0), (2373, 0.042562826537937436), (2374, 0.044455422447438706), (2375, 0.04347826086956522), (2376, 0.0), (2377, 0.04170288281141496), (2378, 0.044455422447438706), (2379, 0.0), (2380, 0.0), (2381, 0.16051447078102563), (2382, 0.0), (2383, 0.04550157551932901), (2384, 0.040128617695256406), (2385, 0.04550157551932901), (2386, 0.04550157551932901), (2387, 0.0), (2388, 0.04170288281141496), (2389, 0.04550157551932901), (2390, 0.0), (2391, 0.0), (2392, 0.0), (2393, 0.04550157551932901), (2394, 0.05057217374241736), (2395, 0.044455422447438706), (2396, 0.0), (2397, 0.04347826086956522), (2398, 0.08695652173913045), (2399, 0.036860489038724284), (2400, 0.0), (2401, 0.0), (2402, 0.04170288281141496), (2403, 0.0), (2404, 0.04347826086956522), (2405, 0.0), (2406, 0.0), (2407, 0.04347826086956522), (2408, 0.0), (2409, 0.0), (2410, 0.0), (2411, 0.0), (2412, 0.0), (2413, 0.0), (2414, 0.0), (2415, 0.0), (2416, 0.04089304100547654), (2417, 0.0), (2418, 0.05212860351426869), (2419, 0.04662524041201569), (2420, 0.0), (2421, 0.06286946134619315), (2422, 0.0), (2423, 0.04550157551932901), (2424, 0.04089304100547654), (2425, 0.0), (2426, 0.047836487323493986), (2427, 0.0), (2428, 0.042562826537937436), (2429, 0.09829463743659811), (2430, 0.0), (2431, 0.0), (2432, 0.04550157551932901), (2433, 0.0), (2434, 0.044455422447438706), (2435, 0.04089304100547654), (2436, 0.05572782125753529), (2437, 0.0), (2438, 0.1333662673423161), (2439, 0.0), (2440, 0.04170288281141496), (2441, 0.0), (2442, 0.03806934938134405), (2443, 0.0), (2444, 0.0), (2445, 0.0), (2446, 0.040128617695256406), (2447, 0.04550157551932901), (2448, 0.044455422447438706), (2449, 0.04347826086956522), (2450, 0.044455422447438706), (2451, 0.0), (2452, 0.047836487323493986), (2453, 0.047836487323493986), (2454, 0.0), (2455, 0.042562826537937436), (2456, 0.049147318718299055), (2457, 0.0), (2458, 0.042562826537937436), (2459, 0.040128617695256406), (2460, 0.053838190205816545), (2461, 0.17025130615174974), (2462, 0.0), (2463, 0.04662524041201569), (2464, 0.0), (2465, 0.04347826086956522), (2466, 0.05057217374241736), (2467, 0.04550157551932901), (2468, 0.04662524041201569), (2469, 0.07049073768502413), (2470, 0.03940552031195503), (2471, 0.0), (2472, 0.04662524041201569), (2473, 0.04550157551932901), (2474, 0.047836487323493986), (2475, 0.04170288281141496), (2476, 0.040128617695256406), (2477, 0.0), (2478, 0.0), (2479, 0.08025723539051281), (2480, 0.08025723539051281), (2481, 0.05057217374241736), (2482, 0.0), (2483, 0.049147318718299055), (2484, 0.0), (2485, 0.05212860351426869), (2486, 0.0), (2487, 0.049147318718299055), (2488, 0.08178608201095308), (2489, 0.044455422447438706), (2490, 0.0), (2491, 0.09100315103865803), (2492, 0.0), (2493, 0.04170288281141496), (2494, 0.049147318718299055), (2495, 0.04170288281141496), (2496, 0.0), (2497, 0.0), (2498, 0.05057217374241736), (2499, 0.04347826086956522), (2500, 0.0), (2501, 0.04347826086956522), (2502, 0.049147318718299055), (2503, 0.03806934938134405), (2504, 0.042562826537937436), (2505, 0.09567297464698797), (2506, 0.049147318718299055), (2507, 0.05212860351426869), (2508, 0.04347826086956522), (2509, 0.044455422447438706), (2510, 0.0), (2511, 0.0), (2512, 0.04662524041201569), (2513, 0.0), (2514, 0.0), (2515, 0.04089304100547654), (2516, 0.042562826537937436), (2517, 0.16681153124565984), (2518, 0.04347826086956522), (2519, 0.05212860351426869), (2520, 0.04662524041201569), (2521, 0.038720154633118314), (2522, 0.04170288281141496), (2523, 0.0), (2524, 0.04089304100547654), (2525, 0.0), (2526, 0.0), (2527, 0.0), (2528, 0.0), (2529, 0.042562826537937436), (2530, 0.0), (2531, 0.047836487323493986), (2532, 0.04550157551932901), (2533, 0.044455422447438706), (2534, 0.0), (2535, 0.042562826537937436), (2536, 0.04170288281141496), (2537, 0.044455422447438706), (2538, 0.0), (2539, 0.04347826086956522), (2540, 0.04347826086956522), (2541, 0.0), (2542, 0.035245368842512066), (2543, 0.044455422447438706), (2544, 0.0), (2545, 0.11616046389935494), (2546, 0.044455422447438706), (2547, 0.042562826537937436), (2548, 0.0), (2549, 0.08891084489487741), (2550, 0.08512565307587487), (2551, 0.04347826086956522), (2552, 0.04347826086956522), (2553, 0.04347826086956522), (2554, 0.0), (2555, 0.04347826086956522), (2556, 0.0), (2557, 0.042562826537937436), (2558, 0.04089304100547654), (2559, 0.0), (2560, 0.03940552031195503), (2561, 0.0), (2562, 0.09325048082403138), (2563, 0.05212860351426869), (2564, 0.04170288281141496), (2565, 0.0), (2566, 0.0), (2567, 0.0), (2568, 0.04170288281141496), (2569, 0.04170288281141496), (2570, 0.0), (2571, 0.044455422447438706), (2572, 0.04089304100547654), (2573, 0.044455422447438706), (2574, 0.05572782125753529), (2575, 0.0), (2576, 0.0), (2577, 0.049147318718299055), (2578, 0.03940552031195503), (2579, 0.0), (2580, 0.04662524041201569), (2581, 0.04550157551932901), (2582, 0.04550157551932901), (2583, 0.0), (2584, 0.044455422447438706), (2585, 0.04662524041201569), (2586, 0.09100315103865803), (2587, 0.09100315103865803), (2588, 0.0), (2589, 0.0), (2590, 0.0), (2591, 0.0), (2592, 0.0), (2593, 0.08178608201095308), (2594, 0.04347826086956522), (2595, 0.04347826086956522), (2596, 0.0), (2597, 0.037450294313656915), (2598, 0.0), (2599, 0.04662524041201569), (2600, 0.044455422447438706), (2601, 0.0), (2602, 0.0), (2603, 0.08695652173913045), (2604, 0.0), (2605, 0.0), (2606, 0.08178608201095308), (2607, 0.0), (2608, 0.04550157551932901), (2609, 0.04347826086956522), (2610, 0.04662524041201569), (2611, 0.10425720702853739), (2612, 0.0), (2613, 0.08025723539051281), (2614, 0.10767638041163309), (2615, 0.042562826537937436), (2616, 0.04089304100547654), (2617, 0.047836487323493986), (2618, 0.0), (2619, 0.0), (2620, 0.04550157551932901), (2621, 0.042562826537937436), (2622, 0.0), (2623, 0.03427955850955305), (2624, 0.040128617695256406), (2625, 0.0), (2626, 0.0), (2627, 0.12038585308576921), (2628, 0.037450294313656915), (2629, 0.053838190205816545), (2630, 0.04347826086956522), (2631, 0.05572782125753529), (2632, 0.04550157551932901), (2633, 0.04089304100547654), (2634, 0.22291128503014115), (2635, 0.04089304100547654), (2636, 0.044455422447438706), (2637, 0.049147318718299055), (2638, 0.040128617695256406), (2639, 0.044455422447438706), (2640, 0.04170288281141496), (2641, 0.04170288281141496), (2642, 0.042562826537937436), (2643, 0.04550157551932901), (2644, 0.0), (2645, 0.08340576562282992), (2646, 0.05783149319662403), (2647, 0.042562826537937436), (2648, 0.05057217374241736), (2649, 0.053838190205816545), (2650, 0.09100315103865803), (2651, 0.04170288281141496), (2652, 0.05057217374241736), (2653, 0.0), (2654, 0.0), (2655, 0.0), (2656, 0.04662524041201569), (2657, 0.04170288281141496), (2658, 0.05572782125753529), (2659, 0.04089304100547654), (2660, 0.037450294313656915), (2661, 0.03940552031195503), (2662, 0.049147318718299055), (2663, 0.10114434748483472), (2664, 0.042562826537937436), (2665, 0.044455422447438706), (2666, 0.044455422447438706), (2667, 0.03940552031195503), (2668, 0.0), (2669, 0.0), (2670, 0.047836487323493986), (2671, 0.042562826537937436), (2672, 0.0), (2673, 0.0), (2674, 0.04347826086956522), (2675, 0.0), (2676, 0.09325048082403138), (2677, 0.034752402342845795), (2678, 0.04089304100547654), (2679, 0.0), (2680, 0.04089304100547654), (2681, 0.0), (2682, 0.04347826086956522), (2683, 0.0), (2684, 0.0), (2685, 0.0), (2686, 0.0), (2687, 0.05572782125753529), (2688, 0.044455422447438706), (2689, 0.0), (2690, 0.0), (2691, 0.04170288281141496), (2692, 0.0), (2693, 0.04347826086956522), (2694, 0.08512565307587487), (2695, 0.049147318718299055), (2696, 0.08340576562282992), (2697, 0.04550157551932901), (2698, 0.0), (2699, 0.0), (2700, 0.08178608201095308), (2701, 0.04347826086956522), (2702, 0.04550157551932901), (2703, 0.05057217374241736), (2704, 0.042562826537937436), (2705, 0.0), (2706, 0.04662524041201569), (2707, 0.0), (2708, 0.05212860351426869), (2709, 0.053838190205816545), (2710, 0.044455422447438706), (2711, 0.04347826086956522), (2712, 0.0), (2713, 0.042562826537937436), (2714, 0.047836487323493986), (2715, 0.0), (2716, 0.042562826537937436), (2717, 0.04550157551932901), (2718, 0.042562826537937436), (2719, 0.04347826086956522), (2720, 0.0), (2721, 0.04550157551932901), (2722, 0.0), (2723, 0.05057217374241736), (2724, 0.04550157551932901), (2725, 0.040128617695256406), (2726, 0.04170288281141496), (2727, 0.08025723539051281), (2728, 0.0), (2729, 0.0), (2730, 0.047836487323493986), (2731, 0.042562826537937436), (2732, 0.08340576562282992), (2733, 0.0), (2734, 0.047836487323493986), (2735, 0.0), (2736, 0.03940552031195503), (2737, 0.0), (2738, 0.0), (2739, 0.08891084489487741), (2740, 0.13043478260869568), (2741, 0.0), (2742, 0.04089304100547654), (2743, 0.0), (2744, 0.0), (2745, 0.07744030926623663), (2746, 0.0), (2747, 0.0), (2748, 0.04550157551932901), (2749, 0.08891084489487741), (2750, 0.0), (2751, 0.0), (2752, 0.04550157551932901), (2753, 0.12510864843424488), (2754, 0.0), (2755, 0.0), (2756, 0.04089304100547654), (2757, 0.07744030926623663), (2758, 0.038720154633118314), (2759, 0.0), (2760, 0.04550157551932901), (2761, 0.0), (2762, 0.0), (2763, 0.0), (2764, 0.053838190205816545), (2765, 0.04662524041201569), (2766, 0.04347826086956522), (2767, 0.0), (2768, 0.0), (2769, 0.04550157551932901), (2770, 0.05572782125753529), (2771, 0.04662524041201569), (2772, 0.047836487323493986), (2773, 0.042562826537937436), (2774, 0.04170288281141496), (2775, 0.04347826086956522), (2776, 0.047836487323493986), (2777, 0.0), (2778, 0.04662524041201569), (2779, 0.053838190205816545), (2780, 0.0), (2781, 0.0), (2782, 0.030414953233623677), (2783, 0.04550157551932901), (2784, 0.03179815003744467), (2785, 0.049147318718299055), (2786, 0.044455422447438706), (2787, 0.03629770043203139), (2788, 0.09100315103865803), (2789, 0.11145564251507058), (2790, 0.0), (2791, 0.0), (2792, 0.04550157551932901), (2793, 0.04662524041201569), (2794, 0.04347826086956522), (2795, 0.0), (2796, 0.042562826537937436), (2797, 0.08695652173913045), (2798, 0.08340576562282992), (2799, 0.08891084489487741), (2800, 0.04550157551932901), (2801, 0.04550157551932901), (2802, 0.08178608201095308), (2803, 0.0), (2804, 0.049147318718299055), (2805, 0.0), (2806, 0.035245368842512066), (2807, 0.040128617695256406), (2808, 0.08512565307587487), (2809, 0.0), (2810, 0.0), (2811, 0.04347826086956522), (2812, 0.0), (2813, 0.0), (2814, 0.04662524041201569), (2815, 0.0), (2816, 0.0), (2817, 0.0), (2818, 0.044455422447438706), (2819, 0.0), (2820, 0.04347826086956522), (2821, 0.0), (2822, 0.0), (2823, 0.0), (2824, 0.04347826086956522), (2825, 0.040128617695256406), (2826, 0.0), (2827, 0.044455422447438706), (2828, 0.0), (2829, 0.04170288281141496), (2830, 0.0), (2831, 0.0), (2832, 0.14744195615489714), (2833, 0.0), (2834, 0.0), (2835, 0.04170288281141496), (2836, 0.042562826537937436), (2837, 0.0), (2838, 0.1333662673423161), (2839, 0.1276884796138123), (2840, 0.038720154633118314), (2841, 0.0), (2842, 0.04347826086956522), (2843, 0.047836487323493986), (2844, 0.047836487323493986), (2845, 0.04347826086956522), (2846, 0.0), (2847, 0.04170288281141496), (2848, 0.0), (2849, 0.04550157551932901), (2850, 0.0), (2851, 0.0), (2852, 0.044455422447438706), (2853, 0.0), (2854, 0.0), (2855, 0.044455422447438706), (2856, 0.049147318718299055), (2857, 0.047836487323493986), (2858, 0.044455422447438706), (2859, 0.049147318718299055), (2860, 0.04089304100547654), (2861, 0.0), (2862, 0.04347826086956522), (2863, 0.042562826537937436), (2864, 0.049147318718299055), (2865, 0.0), (2866, 0.049147318718299055), (2867, 0.0), (2868, 0.0), (2869, 0.05057217374241736), (2870, 0.04550157551932901), (2871, 0.036860489038724284), (2872, 0.0), (2873, 0.0), (2874, 0.0), (2875, 0.047836487323493986), (2876, 0.08025723539051281), (2877, 0.037450294313656915), (2878, 0.0), (2879, 0.04550157551932901), (2880, 0.04347826086956522), (2881, 0.04347826086956522), (2882, 0.05212860351426869), (2883, 0.05057217374241736), (2884, 0.037450294313656915), (2885, 0.08891084489487741), (2886, 0.04347826086956522), (2887, 0.04347826086956522), (2888, 0.037450294313656915), (2889, 0.0), (2890, 0.047836487323493986), (2891, 0.049147318718299055), (2892, 0.053838190205816545), (2893, 0.040128617695256406), (2894, 0.042562826537937436), (2895, 0.0), (2896, 0.049147318718299055), (2897, 0.044455422447438706), (2898, 0.03427955850955305), (2899, 0.0), (2900, 0.0), (2901, 0.04347826086956522), (2902, 0.0), (2903, 0.05057217374241736), (2904, 0.040128617695256406), (2905, 0.08695652173913045), (2906, 0.12510864843424488), (2907, 0.09325048082403138), (2908, 0.05572782125753529), (2909, 0.05572782125753529), (2910, 0.05212860351426869), (2911, 0.042562826537937436), (2912, 0.0), (2913, 0.0), (2914, 0.08025723539051281), (2915, 0.08695652173913045), (2916, 0.040128617695256406), (2917, 0.08695652173913045), (2918, 0.0), (2919, 0.04662524041201569), (2920, 0.04550157551932901), (2921, 0.0), (2922, 0.04550157551932901), (2923, 0.0), (2924, 0.049147318718299055), (2925, 0.08025723539051281), (2926, 0.04347826086956522), (2927, 0.04347826086956522), (2928, 0.0), (2929, 0.0), (2930, 0.0), (2931, 0.0), (2932, 0.05057217374241736), (2933, 0.11145564251507058), (2934, 0.0), (2935, 0.044455422447438706), (2936, 0.044455422447438706), (2937, 0.049147318718299055), (2938, 0.0), (2939, 0.049147318718299055), (2940, 0.044455422447438706), (2941, 0.04089304100547654), (2942, 0.04550157551932901), (2943, 0.047836487323493986), (2944, 0.0), (2945, 0.0), (2946, 0.04089304100547654), (2947, 0.044455422447438706), (2948, 0.04550157551932901), (2949, 0.0), (2950, 0.042562826537937436), (2951, 0.04170288281141496), (2952, 0.044455422447438706), (2953, 0.038720154633118314), (2954, 0.03629770043203139), (2955, 0.0), (2956, 0.05212860351426869), (2957, 0.04550157551932901), (2958, 0.04347826086956522), (2959, 0.049147318718299055), (2960, 0.038720154633118314), (2961, 0.04170288281141496), (2962, 0.04662524041201569), (2963, 0.053838190205816545), (2964, 0.0), (2965, 0.0), (2966, 0.0), (2967, 0.0), (2968, 0.04662524041201569), (2969, 0.04347826086956522), (2970, 0.05572782125753529), (2971, 0.049147318718299055), (2972, 0.047836487323493986), (2973, 0.05057217374241736), (2974, 0.03940552031195503), (2975, 0.04662524041201569), (2976, 0.053838190205816545), (2977, 0.0), (2978, 0.0), (2979, 0.0), (2980, 0.0), (2981, 0.0), (2982, 0.0), (2983, 0.044455422447438706), (2984, 0.04347826086956522), (2985, 0.047836487323493986), (2986, 0.04089304100547654), (2987, 0.0), (2988, 0.0), (2989, 0.0), (2990, 0.0), (2991, 0.0), (2992, 0.044455422447438706), (2993, 0.044455422447438706), (2994, 0.0), (2995, 0.0), (2996, 0.0), (2997, 0.044455422447438706), (2998, 0.0), (2999, 0.0), (3000, 0.04662524041201569), (3001, 0.0), (3002, 0.0), (3003, 0.0), (3004, 0.0), (3005, 0.04662524041201569), (3006, 0.04170288281141496), (3007, 0.0), (3008, 0.0), (3009, 0.047836487323493986), (3010, 0.0), (3011, 0.04550157551932901), (3012, 0.040128617695256406), (3013, 0.044455422447438706), (3014, 0.04347826086956522), (3015, 0.0), (3016, 0.049147318718299055), (3017, 0.042562826537937436), (3018, 0.0), (3019, 0.040128617695256406), (3020, 0.05572782125753529), (3021, 0.0), (3022, 0.053838190205816545), (3023, 0.0761386987626881), (3024, 0.04662524041201569), (3025, 0.05057217374241736), (3026, 0.049147318718299055), (3027, 0.03940552031195503), (3028, 0.047836487323493986), (3029, 0.0), (3030, 0.04550157551932901), (3031, 0.03940552031195503), (3032, 0.03629770043203139), (3033, 0.040128617695256406), (3034, 0.04550157551932901), (3035, 0.0), (3036, 0.0), (3037, 0.05572782125753529), (3038, 0.0), (3039, 0.04550157551932901), (3040, 0.04170288281141496), (3041, 0.04347826086956522), (3042, 0.0), (3043, 0.10114434748483472), (3044, 0.04170288281141496), (3045, 0.04550157551932901), (3046, 0.0), (3047, 0.047836487323493986), (3048, 0.0), (3049, 0.0), (3050, 0.0), (3051, 0.0), (3052, 0.04347826086956522), (3053, 0.0), (3054, 0.0), (3055, 0.04089304100547654), (3056, 0.0), (3057, 0.16681153124565984), (3058, 0.0), (3059, 0.09829463743659811), (3060, 0.04662524041201569), (3061, 0.08695652173913045), (3062, 0.08891084489487741), (3063, 0.0), (3064, 0.04347826086956522), (3065, 0.0), (3066, 0.049147318718299055), (3067, 0.0), (3068, 0.04089304100547654), (3069, 0.047836487323493986), (3070, 0.04662524041201569), (3071, 0.04550157551932901), (3072, 0.049147318718299055), (3073, 0.04089304100547654), (3074, 0.038720154633118314), (3075, 0.04662524041201569), (3076, 0.05572782125753529), (3077, 0.0), (3078, 0.05572782125753529), (3079, 0.0), (3080, 0.053838190205816545), (3081, 0.0), (3082, 0.0), (3083, 0.042562826537937436), (3084, 0.040128617695256406), (3085, 0.13043478260869568), (3086, 0.0), (3087, 0.05212860351426869), (3088, 0.09100315103865803), (3089, 0.0), (3090, 0.0), (3091, 0.044455422447438706), (3092, 0.10114434748483472), (3093, 0.042562826537937436), (3094, 0.040128617695256406), (3095, 0.09325048082403138), (3096, 0.04662524041201569), (3097, 0.0), (3098, 0.0), (3099, 0.0), (3100, 0.04170288281141496), (3101, 0.0), (3102, 0.04662524041201569), (3103, 0.05783149319662403), (3104, 0.04347826086956522), (3105, 0.047836487323493986), (3106, 0.0), (3107, 0.0), (3108, 0.0), (3109, 0.042562826537937436), (3110, 0.04662524041201569), (3111, 0.04662524041201569), (3112, 0.04550157551932901), (3113, 0.044455422447438706), (3114, 0.0), (3115, 0.0), (3116, 0.049147318718299055), (3117, 0.0), (3118, 0.09100315103865803), (3119, 0.06019292654288461), (3120, 0.044455422447438706), (3121, 0.0), (3122, 0.0), (3123, 0.044455422447438706), (3124, 0.038720154633118314), (3125, 0.03427955850955305), (3126, 0.049147318718299055), (3127, 0.05212860351426869), (3128, 0.0), (3129, 0.0), (3130, 0.05057217374241736), (3131, 0.04170288281141496), (3132, 0.0), (3133, 0.0), (3134, 0.09325048082403138), (3135, 0.0), (3136, 0.0), (3137, 0.0), (3138, 0.042562826537937436), (3139, 0.0), (3140, 0.03427955850955305), (3141, 0.0), (3142, 0.0), (3143, 0.0), (3144, 0.05057217374241736), (3145, 0.04347826086956522), (3146, 0.04170288281141496), (3147, 0.0), (3148, 0.0), (3149, 0.040128617695256406), (3150, 0.0), (3151, 0.04550157551932901), (3152, 0.04662524041201569), (3153, 0.04550157551932901), (3154, 0.053838190205816545), (3155, 0.038720154633118314), (3156, 0.044455422447438706), (3157, 0.047836487323493986), (3158, 0.0), (3159, 0.0), (3160, 0.04550157551932901), (3161, 0.04550157551932901), (3162, 0.0), (3163, 0.0), (3164, 0.053838190205816545), (3165, 0.042562826537937436), (3166, 0.05572782125753529), (3167, 0.047836487323493986), (3168, 0.0), (3169, 0.0), (3170, 0.03806934938134405), (3171, 0.03940552031195503), (3172, 0.05212860351426869), (3173, 0.04347826086956522), (3174, 0.0), (3175, 0.0), (3176, 0.0), (3177, 0.03806934938134405), (3178, 0.035245368842512066), (3179, 0.0), (3180, 0.04347826086956522), (3181, 0.08695652173913045), (3182, 0.044455422447438706), (3183, 0.04347826086956522), (3184, 0.0), (3185, 0.05572782125753529), (3186, 0.10114434748483472), (3187, 0.0), (3188, 0.044455422447438706), (3189, 0.0), (3190, 0.0), (3191, 0.047836487323493986), (3192, 0.0), (3193, 0.0), (3194, 0.05572782125753529), (3195, 0.08512565307587487), (3196, 0.04347826086956522), (3197, 0.04089304100547654), (3198, 0.0), (3199, 0.10425720702853739), (3200, 0.049147318718299055), (3201, 0.08891084489487741), (3202, 0.04550157551932901), (3203, 0.0), (3204, 0.0), (3205, 0.05212860351426869), (3206, 0.047836487323493986), (3207, 0.0), (3208, 0.0), (3209, 0.04170288281141496), (3210, 0.0), (3211, 0.04347826086956522), (3212, 0.09325048082403138), (3213, 0.05783149319662403), (3214, 0.0), (3215, 0.0), (3216, 0.0), (3217, 0.04662524041201569), (3218, 0.0), (3219, 0.042562826537937436), (3220, 0.04550157551932901), (3221, 0.042562826537937436), (3222, 0.04662524041201569), (3223, 0.053838190205816545), (3224, 0.05572782125753529), (3225, 0.11145564251507058), (3226, 0.05212860351426869), (3227, 0.03806934938134405), (3228, 0.0), (3229, 0.04662524041201569), (3230, 0.0), (3231, 0.042562826537937436), (3232, 0.0), (3233, 0.0), (3234, 0.044455422447438706), (3235, 0.0), (3236, 0.04089304100547654), (3237, 0.0), (3238, 0.03940552031195503), (3239, 0.038720154633118314), (3240, 0.0), (3241, 0.047836487323493986), (3242, 0.04550157551932901), (3243, 0.0), (3244, 0.0), (3245, 0.04347826086956522), (3246, 0.04662524041201569), (3247, 0.0), (3248, 0.05572782125753529), (3249, 0.0), (3250, 0.15762208124782012), (3251, 0.042562826537937436), (3252, 0.08340576562282992), (3253, 0.042562826537937436), (3254, 0.047836487323493986), (3255, 0.0), (3256, 0.0), (3257, 0.12267912301642962), (3258, 0.04662524041201569), (3259, 0.0), (3260, 0.0), (3261, 0.049147318718299055), (3262, 0.04170288281141496), (3263, 0.0), (3264, 0.05212860351426869), (3265, 0.049147318718299055), (3266, 0.0), (3267, 0.09829463743659811), (3268, 0.0), (3269, 0.047836487323493986), (3270, 0.14519080172812557), (3271, 0.10425720702853739), (3272, 0.047836487323493986), (3273, 0.0), (3274, 0.0), (3275, 0.08695652173913045), (3276, 0.042562826537937436), (3277, 0.04550157551932901), (3278, 0.04662524041201569), (3279, 0.14350946197048195), (3280, 0.053838190205816545), (3281, 0.0), (3282, 0.05212860351426869), (3283, 0.2044652050273827), (3284, 0.05212860351426869), (3285, 0.09100315103865803), (3286, 0.0), (3287, 0.10767638041163309), (3288, 0.04089304100547654), (3289, 0.03806934938134405), (3290, 0.0), (3291, 0.0), (3292, 0.053838190205816545), (3293, 0.042562826537937436), (3294, 0.04347826086956522), (3295, 0.049147318718299055), (3296, 0.0), (3297, 0.04170288281141496), (3298, 0.042562826537937436), (3299, 0.1517165212272521), (3300, 0.0), (3301, 0.044455422447438706), (3302, 0.053838190205816545), (3303, 0.0), (3304, 0.05572782125753529), (3305, 0.04170288281141496), (3306, 0.053838190205816545), (3307, 0.04662524041201569), (3308, 0.047836487323493986), (3309, 0.0), (3310, 0.09567297464698797), (3311, 0.04347826086956522), (3312, 0.0), (3313, 0.04089304100547654), (3314, 0.05212860351426869), (3315, 0.047836487323493986), (3316, 0.044455422447438706), (3317, 0.0), (3318, 0.0), (3319, 0.05572782125753529), (3320, 0.0), (3321, 0.04662524041201569), (3322, 0.05057217374241736), (3323, 0.04347826086956522), (3324, 0.0), (3325, 0.049147318718299055), (3326, 0.05212860351426869), (3327, 0.0), (3328, 0.042562826537937436), (3329, 0.0), (3330, 0.09325048082403138), (3331, 0.0), (3332, 0.047836487323493986), (3333, 0.0), (3334, 0.04089304100547654), (3335, 0.0), (3336, 0.0), (3337, 0.03940552031195503), (3338, 0.047836487323493986), (3339, 0.042562826537937436), (3340, 0.04662524041201569), (3341, 0.04550157551932901), (3342, 0.0), (3343, 0.0), (3344, 0.047836487323493986), (3345, 0.0), (3346, 0.0), (3347, 0.09100315103865803), (3348, 0.08512565307587487), (3349, 0.0), (3350, 0.0), (3351, 0.0), (3352, 0.03940552031195503), (3353, 0.0), (3354, 0.0), (3355, 0.0), (3356, 0.042562826537937436), (3357, 0.042562826537937436), (3358, 0.04170288281141496), (3359, 0.05212860351426869), (3360, 0.0), (3361, 0.0), (3362, 0.04347826086956522), (3363, 0.047836487323493986), (3364, 0.0), (3365, 0.044455422447438706), (3366, 0.04170288281141496), (3367, 0.09325048082403138), (3368, 0.04662524041201569), (3369, 0.040128617695256406), (3370, 0.08025723539051281), (3371, 0.0), (3372, 0.0), (3373, 0.049147318718299055), (3374, 0.042562826537937436), (3375, 0.08340576562282992), (3376, 0.05212860351426869), (3377, 0.05057217374241736), (3378, 0.04347826086956522), (3379, 0.047836487323493986), (3380, 0.044455422447438706), (3381, 0.047836487323493986), (3382, 0.08178608201095308), (3383, 0.0), (3384, 0.04347826086956522), (3385, 0.04347826086956522), (3386, 0.0), (3387, 0.04170288281141496), (3388, 0.04170288281141496), (3389, 0.0), (3390, 0.03427955850955305), (3391, 0.04170288281141496), (3392, 0.05212860351426869), (3393, 0.21535276082326618), (3394, 0.04662524041201569), (3395, 0.0), (3396, 0.05057217374241736), (3397, 0.0), (3398, 0.04662524041201569), (3399, 0.08025723539051281), (3400, 0.049147318718299055), (3401, 0.0), (3402, 0.0), (3403, 0.0), (3404, 0.0), (3405, 0.0), (3406, 0.042562826537937436), (3407, 0.04089304100547654), (3408, 0.04662524041201569), (3409, 0.0761386987626881), (3410, 0.04347826086956522), (3411, 0.04347826086956522), (3412, 0.0), (3413, 0.0), (3414, 0.044455422447438706), (3415, 0.049147318718299055), (3416, 0.05057217374241736), (3417, 0.038720154633118314), (3418, 0.0), (3419, 0.047836487323493986), (3420, 0.040128617695256406), (3421, 0.042562826537937436), (3422, 0.047836487323493986), (3423, 0.0), (3424, 0.04089304100547654), (3425, 0.0), (3426, 0.04550157551932901), (3427, 0.04347826086956522), (3428, 0.0), (3429, 0.04347826086956522), (3430, 0.04170288281141496), (3431, 0.042562826537937436), (3432, 0.05572782125753529), (3433, 0.04347826086956522), (3434, 0.044455422447438706), (3435, 0.042562826537937436), (3436, 0.04662524041201569), (3437, 0.05212860351426869), (3438, 0.044455422447438706), (3439, 0.0), (3440, 0.04170288281141496), (3441, 0.047836487323493986), (3442, 0.0), (3443, 0.0), (3444, 0.0), (3445, 0.042562826537937436), (3446, 0.0), (3447, 0.044455422447438706), (3448, 0.03940552031195503), (3449, 0.042562826537937436), (3450, 0.04170288281141496), (3451, 0.0), (3452, 0.09100315103865803), (3453, 0.053838190205816545), (3454, 0.04347826086956522), (3455, 0.0), (3456, 0.0), (3457, 0.04550157551932901), (3458, 0.0), (3459, 0.0), (3460, 0.0), (3461, 0.05212860351426869), (3462, 0.0), (3463, 0.04550157551932901), (3464, 0.0), (3465, 0.04550157551932901), (3466, 0.04089304100547654), (3467, 0.04089304100547654), (3468, 0.049147318718299055), (3469, 0.0), (3470, 0.04089304100547654), (3471, 0.0), (3472, 0.04089304100547654), (3473, 0.038720154633118314), (3474, 0.04089304100547654), (3475, 0.0), (3476, 0.03940552031195503), (3477, 0.0), (3478, 0.0), (3479, 0.04550157551932901), (3480, 0.044455422447438706), (3481, 0.0), (3482, 0.04170288281141496), (3483, 0.0), (3484, 0.0), (3485, 0.0), (3486, 0.05212860351426869), (3487, 0.053838190205816545), (3488, 0.04662524041201569), (3489, 0.047836487323493986), (3490, 0.0), (3491, 0.047836487323493986), (3492, 0.04089304100547654), (3493, 0.05057217374241736), (3494, 0.040128617695256406), (3495, 0.04550157551932901), (3496, 0.044455422447438706), (3497, 0.05212860351426869), (3498, 0.047836487323493986), (3499, 0.044455422447438706), (3500, 0.0), (3501, 0.053838190205816545), (3502, 0.0), (3503, 0.0), (3504, 0.04662524041201569), (3505, 0.0), (3506, 0.049147318718299055), (3507, 0.042562826537937436), (3508, 0.05057217374241736), (3509, 0.0), (3510, 0.05212860351426869), (3511, 0.04089304100547654), (3512, 0.044455422447438706), (3513, 0.05212860351426869), (3514, 0.04347826086956522), (3515, 0.0), (3516, 0.040128617695256406), (3517, 0.053838190205816545), (3518, 0.04550157551932901), (3519, 0.0), (3520, 0.042562826537937436), (3521, 0.053838190205816545), (3522, 0.042562826537937436), (3523, 0.0), (3524, 0.04170288281141496), (3525, 0.0), (3526, 0.04170288281141496), (3527, 0.04662524041201569), (3528, 0.053838190205816545), (3529, 0.04662524041201569), (3530, 0.03575992699260758), (3531, 0.0), (3532, 0.08512565307587487), (3533, 0.040128617695256406), (3534, 0.0), (3535, 0.042562826537937436), (3536, 0.0), (3537, 0.044455422447438706), (3538, 0.04347826086956522), (3539, 0.04662524041201569), (3540, 0.044455422447438706), (3541, 0.044455422447438706), (3542, 0.05057217374241736), (3543, 0.040128617695256406), (3544, 0.10767638041163309), (3545, 0.04550157551932901), (3546, 0.044455422447438706), (3547, 0.049147318718299055), (3548, 0.0), (3549, 0.04550157551932901), (3550, 0.047836487323493986), (3551, 0.04662524041201569), (3552, 0.04347826086956522), (3553, 0.04550157551932901), (3554, 0.0), (3555, 0.0), (3556, 0.04170288281141496), (3557, 0.0), (3558, 0.04089304100547654), (3559, 0.0), (3560, 0.0), (3561, 0.04662524041201569), (3562, 0.04662524041201569), (3563, 0.0), (3564, 0.049147318718299055), (3565, 0.0), (3566, 0.0), (3567, 0.04550157551932901), (3568, 0.044455422447438706), (3569, 0.0), (3570, 0.09100315103865803), (3571, 0.1276884796138123), (3572, 0.047836487323493986), (3573, 0.0), (3574, 0.0), (3575, 0.0), (3576, 0.04170288281141496), (3577, 0.047836487323493986), (3578, 0.0), (3579, 0.044455422447438706), (3580, 0.0), (3581, 0.08340576562282992), (3582, 0.047836487323493986), (3583, 0.036860489038724284), (3584, 0.04347826086956522), (3585, 0.04662524041201569), (3586, 0.0), (3587, 0.04662524041201569), (3588, 0.04347826086956522), (3589, 0.05212860351426869), (3590, 0.053838190205816545), (3591, 0.0), (3592, 0.0), (3593, 0.042562826537937436), (3594, 0.04170288281141496), (3595, 0.0), (3596, 0.07881104062391006), (3597, 0.0), (3598, 0.05572782125753529), (3599, 0.04170288281141496), (3600, 0.0), (3601, 0.0), (3602, 0.04347826086956522), (3603, 0.08340576562282992), (3604, 0.0), (3605, 0.04089304100547654), (3606, 0.0), (3607, 0.0), (3608, 0.1333662673423161), (3609, 0.0), (3610, 0.05572782125753529), (3611, 0.044455422447438706), (3612, 0.0), (3613, 0.0), (3614, 0.04170288281141496), (3615, 0.0761386987626881), (3616, 0.03940552031195503), (3617, 0.0), (3618, 0.04550157551932901), (3619, 0.04170288281141496), (3620, 0.04089304100547654), (3621, 0.044455422447438706), (3622, 0.0), (3623, 0.0), (3624, 0.04347826086956522), (3625, 0.049147318718299055), (3626, 0.0), (3627, 0.047836487323493986), (3628, 0.047836487323493986), (3629, 0.04550157551932901), (3630, 0.044455422447438706), (3631, 0.047836487323493986), (3632, 0.053838190205816545), (3633, 0.044455422447438706), (3634, 0.0), (3635, 0.12510864843424488), (3636, 0.09100315103865803), (3637, 0.04662524041201569), (3638, 0.04550157551932901), (3639, 0.042562826537937436), (3640, 0.0), (3641, 0.04662524041201569), (3642, 0.04662524041201569), (3643, 0.037450294313656915), (3644, 0.042562826537937436), (3645, 0.04662524041201569), (3646, 0.0), (3647, 0.040128617695256406), (3648, 0.0), (3649, 0.05572782125753529), (3650, 0.047836487323493986), (3651, 0.04550157551932901), (3652, 0.0), (3653, 0.0), (3654, 0.044455422447438706), (3655, 0.0), (3656, 0.0), (3657, 0.0), (3658, 0.04347826086956522), (3659, 0.09100315103865803), (3660, 0.0), (3661, 0.06019292654288461), (3662, 0.042562826537937436), (3663, 0.0), (3664, 0.0), (3665, 0.05057217374241736), (3666, 0.047836487323493986), (3667, 0.0), (3668, 0.04550157551932901), (3669, 0.053838190205816545), (3670, 0.0), (3671, 0.0), (3672, 0.0), (3673, 0.04170288281141496), (3674, 0.053838190205816545), (3675, 0.03940552031195503), (3676, 0.0), (3677, 0.0), (3678, 0.04662524041201569), (3679, 0.04550157551932901), (3680, 0.0), (3681, 0.04662524041201569), (3682, 0.0), (3683, 0.0), (3684, 0.0), (3685, 0.042562826537937436), (3686, 0.05212860351426869), (3687, 0.0), (3688, 0.037450294313656915), (3689, 0.04347826086956522), (3690, 0.044455422447438706), (3691, 0.04347826086956522), (3692, 0.049147318718299055), (3693, 0.04550157551932901), (3694, 0.0), (3695, 0.08695652173913045), (3696, 0.04089304100547654), (3697, 0.0), (3698, 0.044455422447438706), (3699, 0.13650472655798704), (3700, 0.042562826537937436), (3701, 0.13987572123604708), (3702, 0.0), (3703, 0.044455422447438706), (3704, 0.04550157551932901), (3705, 0.0), (3706, 0.038720154633118314), (3707, 0.0), (3708, 0.08025723539051281), (3709, 0.04170288281141496), (3710, 0.04550157551932901), (3711, 0.042562826537937436), (3712, 0.08512565307587487), (3713, 0.1276884796138123), (3714, 0.0), (3715, 0.0), (3716, 0.047836487323493986), (3717, 0.044455422447438706), (3718, 0.053838190205816545), (3719, 0.04550157551932901), (3720, 0.0), (3721, 0.0), (3722, 0.04170288281141496), (3723, 0.04347826086956522), (3724, 0.0), (3725, 0.04662524041201569), (3726, 0.04662524041201569), (3727, 0.05212860351426869), (3728, 0.03806934938134405), (3729, 0.053838190205816545), (3730, 0.0), (3731, 0.037450294313656915), (3732, 0.044455422447438706), (3733, 0.0), (3734, 0.04170288281141496), (3735, 0.0), (3736, 0.0), (3737, 0.0), (3738, 0.04550157551932901), (3739, 0.04170288281141496), (3740, 0.04662524041201569), (3741, 0.03940552031195503), (3742, 0.0), (3743, 0.044455422447438706), (3744, 0.0), (3745, 0.09100315103865803), (3746, 0.0), (3747, 0.05212860351426869), (3748, 0.044455422447438706), (3749, 0.04170288281141496), (3750, 0.040128617695256406), (3751, 0.0), (3752, 0.0), (3753, 0.03575992699260758), (3754, 0.0), (3755, 0.0), (3756, 0.0), (3757, 0.049147318718299055), (3758, 0.044455422447438706), (3759, 0.03940552031195503), (3760, 0.0), (3761, 0.044455422447438706), (3762, 0.0), (3763, 0.04347826086956522), (3764, 0.04347826086956522), (3765, 0.04347826086956522), (3766, 0.0), (3767, 0.04550157551932901), (3768, 0.0), (3769, 0.044455422447438706), (3770, 0.0), (3771, 0.0), (3772, 0.0), (3773, 0.04089304100547654), (3774, 0.0), (3775, 0.0), (3776, 0.04089304100547654), (3777, 0.049147318718299055), (3778, 0.047836487323493986), (3779, 0.05212860351426869), (3780, 0.04347826086956522), (3781, 0.05783149319662403), (3782, 0.04550157551932901), (3783, 0.09100315103865803), (3784, 0.0), (3785, 0.044455422447438706), (3786, 0.0), (3787, 0.05212860351426869), (3788, 0.04347826086956522), (3789, 0.09100315103865803), (3790, 0.0), (3791, 0.0), (3792, 0.05212860351426869), (3793, 0.06019292654288461), (3794, 0.08025723539051281), (3795, 0.044455422447438706), (3796, 0.053838190205816545), (3797, 0.04662524041201569), (3798, 0.05572782125753529), (3799, 0.0), (3800, 0.04347826086956522), (3801, 0.04662524041201569), (3802, 0.044455422447438706), (3803, 0.0), (3804, 0.038720154633118314), (3805, 0.13650472655798704), (3806, 0.0), (3807, 0.0), (3808, 0.0), (3809, 0.0), (3810, 0.044455422447438706), (3811, 0.04550157551932901), (3812, 0.049147318718299055), (3813, 0.0761386987626881), (3814, 0.04662524041201569), (3815, 0.0), (3816, 0.04550157551932901), (3817, 0.049147318718299055), (3818, 0.047836487323493986), (3819, 0.044455422447438706), (3820, 0.0), (3821, 0.04170288281141496), (3822, 0.04347826086956522), (3823, 0.05212860351426869), (3824, 0.0), (3825, 0.0), (3826, 0.0), (3827, 0.0), (3828, 0.04347826086956522), (3829, 0.0), (3830, 0.04550157551932901), (3831, 0.04662524041201569), (3832, 0.049147318718299055), (3833, 0.04550157551932901), (3834, 0.04347826086956522), (3835, 0.0), (3836, 0.0), (3837, 0.07490058862731383), (3838, 0.13650472655798704), (3839, 0.042562826537937436), (3840, 0.0), (3841, 0.0), (3842, 0.0), (3843, 0.0), (3844, 0.04347826086956522), (3845, 0.0), (3846, 0.05212860351426869), (3847, 0.049147318718299055), (3848, 0.0), (3849, 0.0), (3850, 0.044455422447438706), (3851, 0.0), (3852, 0.05572782125753529), (3853, 0.0), (3854, 0.04347826086956522), (3855, 0.0), (3856, 0.04662524041201569), (3857, 0.053838190205816545), (3858, 0.09829463743659811), (3859, 0.0), (3860, 0.0), (3861, 0.0), (3862, 0.04662524041201569), (3863, 0.10767638041163309), (3864, 0.08512565307587487), (3865, 0.04662524041201569), (3866, 0.04347826086956522), (3867, 0.044455422447438706), (3868, 0.049147318718299055), (3869, 0.04347826086956522), (3870, 0.042562826537937436), (3871, 0.0), (3872, 0.044455422447438706), (3873, 0.03940552031195503), (3874, 0.0), (3875, 0.05057217374241736), (3876, 0.04347826086956522), (3877, 0.04347826086956522), (3878, 0.0), (3879, 0.04347826086956522), (3880, 0.04170288281141496), (3881, 0.038720154633118314), (3882, 0.0), (3883, 0.0), (3884, 0.0), (3885, 0.0), (3886, 0.04347826086956522), (3887, 0.042562826537937436), (3888, 0.0), (3889, 0.044455422447438706), (3890, 0.09325048082403138), (3891, 0.0), (3892, 0.04550157551932901), (3893, 0.0), (3894, 0.22750787759664506), (3895, 0.0), (3896, 0.0), (3897, 0.0), (3898, 0.04662524041201569), (3899, 0.0), (3900, 0.04550157551932901), (3901, 0.0), (3902, 0.042562826537937436), (3903, 0.08512565307587487), (3904, 0.0), (3905, 0.044455422447438706), (3906, 0.038720154633118314), (3907, 0.0), (3908, 0.0), (3909, 0.0), (3910, 0.0), (3911, 0.05572782125753529), (3912, 0.0), (3913, 0.053838190205816545), (3914, 0.04347826086956522), (3915, 0.05057217374241736), (3916, 0.0), (3917, 0.0), (3918, 0.04170288281141496), (3919, 0.0), (3920, 0.0), (3921, 0.05057217374241736), (3922, 0.049147318718299055), (3923, 0.044455422447438706), (3924, 0.0), (3925, 0.0), (3926, 0.05057217374241736), (3927, 0.04550157551932901), (3928, 0.0), (3929, 0.0), (3930, 0.0), (3931, 0.044455422447438706), (3932, 0.05057217374241736), (3933, 0.0), (3934, 0.08178608201095308), (3935, 0.08178608201095308), (3936, 0.047836487323493986), (3937, 0.038720154633118314), (3938, 0.0), (3939, 0.0), (3940, 0.1522773975253762), (3941, 0.09100315103865803), (3942, 0.0), (3943, 0.0), (3944, 0.042562826537937436), (3945, 0.047836487323493986), (3946, 0.049147318718299055), (3947, 0.0), (3948, 0.0), (3949, 0.0), (3950, 0.047836487323493986), (3951, 0.0), (3952, 0.08695652173913045), (3953, 0.05057217374241736), (3954, 0.09325048082403138), (3955, 0.04662524041201569), (3956, 0.0), (3957, 0.10425720702853739), (3958, 0.0), (3959, 0.0), (3960, 0.0), (3961, 0.05057217374241736), (3962, 0.04170288281141496), (3963, 0.05783149319662403), (3964, 0.0), (3965, 0.044455422447438706), (3966, 0.044455422447438706), (3967, 0.05572782125753529), (3968, 0.0), (3969, 0.0), (3970, 0.0), (3971, 0.0), (3972, 0.0), (3973, 0.04347826086956522), (3974, 0.04089304100547654), (3975, 0.04550157551932901), (3976, 0.0), (3977, 0.06286946134619315), (3978, 0.05212860351426869), (3979, 0.0), (3980, 0.0), (3981, 0.044455422447438706), (3982, 0.0), (3983, 0.044455422447438706), (3984, 0.0), (3985, 0.0), (3986, 0.04347826086956522), (3987, 0.0), (3988, 0.0), (3989, 0.044455422447438706), (3990, 0.04347826086956522), (3991, 0.0), (3992, 0.0), (3993, 0.0), (3994, 0.0), (3995, 0.05212860351426869), (3996, 0.049147318718299055), (3997, 0.0), (3998, 0.0), (3999, 0.04550157551932901), (4000, 0.038720154633118314), (4001, 0.0), (4002, 0.04550157551932901), (4003, 0.0), (4004, 0.05057217374241736), (4005, 0.0), (4006, 0.0), (4007, 0.0), (4008, 0.044455422447438706), (4009, 0.0), (4010, 0.03629770043203139), (4011, 0.0), (4012, 0.0), (4013, 0.04550157551932901), (4014, 0.0761386987626881), (4015, 0.044455422447438706), (4016, 0.038720154633118314), (4017, 0.047836487323493986), (4018, 0.0), (4019, 0.03940552031195503), (4020, 0.0), (4021, 0.04347826086956522), (4022, 0.04347826086956522), (4023, 0.08891084489487741), (4024, 0.03940552031195503), (4025, 0.0), (4026, 0.04089304100547654), (4027, 0.06286946134619315), (4028, 0.049147318718299055), (4029, 0.0), (4030, 0.0), (4031, 0.0), (4032, 0.04550157551932901), (4033, 0.044455422447438706), (4034, 0.0), (4035, 0.05057217374241736), (4036, 0.0), (4037, 0.05057217374241736), (4038, 0.053838190205816545), (4039, 0.0), (4040, 0.0), (4041, 0.04662524041201569), (4042, 0.0), (4043, 0.0), (4044, 0.05212860351426869), (4045, 0.049147318718299055), (4046, 0.0), (4047, 0.053838190205816545), (4048, 0.0), (4049, 0.0), (4050, 0.04662524041201569), (4051, 0.05212860351426869), (4052, 0.0), (4053, 0.0), (4054, 0.047836487323493986), (4055, 0.053838190205816545), (4056, 0.0), (4057, 0.05783149319662403), (4058, 0.047836487323493986), (4059, 0.0), (4060, 0.0), (4061, 0.047836487323493986), (4062, 0.03940552031195503), (4063, 0.13650472655798704), (4064, 0.04662524041201569), (4065, 0.07881104062391006), (4066, 0.08891084489487741), (4067, 0.044455422447438706), (4068, 0.0), (4069, 0.0), (4070, 0.053838190205816545), (4071, 0.0), (4072, 0.0), (4073, 0.0), (4074, 0.04662524041201569), (4075, 0.0), (4076, 0.04089304100547654), (4077, 0.0), (4078, 0.0), (4079, 0.08891084489487741), (4080, 0.0), (4081, 0.04089304100547654), (4082, 0.047836487323493986), (4083, 0.04662524041201569), (4084, 0.03940552031195503), (4085, 0.03940552031195503), (4086, 0.05572782125753529), (4087, 0.044455422447438706), (4088, 0.04550157551932901), (4089, 0.03806934938134405), (4090, 0.042562826537937436), (4091, 0.05057217374241736), (4092, 0.047836487323493986), (4093, 0.0), (4094, 0.047836487323493986), (4095, 0.03806934938134405), (4096, 0.0), (4097, 0.05212860351426869), (4098, 0.04550157551932901), (4099, 0.08891084489487741), (4100, 0.08178608201095308), (4101, 0.13987572123604708), (4102, 0.0), (4103, 0.04170288281141496), (4104, 0.042562826537937436), (4105, 0.0), (4106, 0.0), (4107, 0.037450294313656915), (4108, 0.044455422447438706), (4109, 0.047836487323493986), (4110, 0.0), (4111, 0.053838190205816545), (4112, 0.049147318718299055), (4113, 0.0), (4114, 0.0), (4115, 0.13650472655798704), (4116, 0.0), (4117, 0.0), (4118, 0.0), (4119, 0.042562826537937436), (4120, 0.0), (4121, 0.047836487323493986), (4122, 0.05057217374241736), (4123, 0.0), (4124, 0.042562826537937436), (4125, 0.0), (4126, 0.04662524041201569), (4127, 0.04347826086956522), (4128, 0.0), (4129, 0.049147318718299055), (4130, 0.08891084489487741), (4131, 0.04662524041201569), (4132, 0.0), (4133, 0.0), (4134, 0.0), (4135, 0.042562826537937436), (4136, 0.04662524041201569), (4137, 0.0), (4138, 0.0), (4139, 0.04662524041201569), (4140, 0.0), (4141, 0.0), (4142, 0.0), (4143, 0.053838190205816545), (4144, 0.040128617695256406), (4145, 0.0), (4146, 0.1517165212272521), (4147, 0.0), (4148, 0.047836487323493986), (4149, 0.0), (4150, 0.04550157551932901), (4151, 0.0), (4152, 0.04170288281141496), (4153, 0.0), (4154, 0.0), (4155, 0.0), (4156, 0.0), (4157, 0.042562826537937436), (4158, 0.0), (4159, 0.049147318718299055), (4160, 0.05212860351426869), (4161, 0.0), (4162, 0.03940552031195503), (4163, 0.04550157551932901), (4164, 0.047836487323493986), (4165, 0.042562826537937436), (4166, 0.08340576562282992), (4167, 0.040128617695256406), (4168, 0.053838190205816545), (4169, 0.05212860351426869), (4170, 0.04347826086956522), (4171, 0.11616046389935494), (4172, 0.037450294313656915), (4173, 0.040128617695256406), (4174, 0.03575992699260758), (4175, 0.042562826537937436), (4176, 0.0), (4177, 0.044455422447438706), (4178, 0.040128617695256406), (4179, 0.0), (4180, 0.0), (4181, 0.0), (4182, 0.040128617695256406), (4183, 0.0), (4184, 0.05572782125753529), (4185, 0.0), (4186, 0.05057217374241736), (4187, 0.0), (4188, 0.0), (4189, 0.04550157551932901), (4190, 0.044455422447438706), (4191, 0.04550157551932901), (4192, 0.04550157551932901), (4193, 0.0), (4194, 0.044455422447438706), (4195, 0.0), (4196, 0.0), (4197, 0.040128617695256406), (4198, 0.05572782125753529), (4199, 0.05212860351426869), (4200, 0.047836487323493986), (4201, 0.044455422447438706), (4202, 0.0), (4203, 0.10767638041163309), (4204, 0.04347826086956522), (4205, 0.10767638041163309), (4206, 0.036860489038724284), (4207, 0.0), (4208, 0.053838190205816545), (4209, 0.04170288281141496), (4210, 0.0), (4211, 0.040128617695256406), (4212, 0.11145564251507058), (4213, 0.0), (4214, 0.0), (4215, 0.0), (4216, 0.09567297464698797), (4217, 0.049147318718299055), (4218, 0.04550157551932901), (4219, 0.0), (4220, 0.03806934938134405), (4221, 0.047836487323493986), (4222, 0.04550157551932901), (4223, 0.04089304100547654), (4224, 0.0), (4225, 0.0), (4226, 0.040128617695256406), (4227, 0.0), (4228, 0.04550157551932901), (4229, 0.0), (4230, 0.04347826086956522), (4231, 0.04550157551932901), (4232, 0.08695652173913045), (4233, 0.0), (4234, 0.09100315103865803), (4235, 0.0), (4236, 0.05783149319662403), (4237, 0.044455422447438706), (4238, 0.042562826537937436), (4239, 0.05212860351426869), (4240, 0.0), (4241, 0.0), (4242, 0.037450294313656915), (4243, 0.05212860351426869), (4244, 0.04662524041201569), (4245, 0.0), (4246, 0.047836487323493986), (4247, 0.12038585308576923), (4248, 0.0), (4249, 0.0), (4250, 0.0), (4251, 0.09325048082403138), (4252, 0.12038585308576923), (4253, 0.05212860351426869), (4254, 0.047836487323493986), (4255, 0.053838190205816545), (4256, 0.0), (4257, 0.05057217374241736), (4258, 0.0), (4259, 0.04347826086956522), (4260, 0.040128617695256406), (4261, 0.047836487323493986), (4262, 0.05212860351426869), (4263, 0.042562826537937436), (4264, 0.0), (4265, 0.038720154633118314), (4266, 0.05212860351426869), (4267, 0.0), (4268, 0.0), (4269, 0.06019292654288461), (4270, 0.040128617695256406), (4271, 0.04170288281141496), (4272, 0.047836487323493986), (4273, 0.05783149319662403), (4274, 0.0), (4275, 0.05057217374241736), (4276, 0.0), (4277, 0.0), (4278, 0.0), (4279, 0.0), (4280, 0.05057217374241736), (4281, 0.04347826086956522), (4282, 0.0), (4283, 0.047836487323493986), (4284, 0.0), (4285, 0.11566298639324805), (4286, 0.0), (4287, 0.044455422447438706), (4288, 0.049147318718299055), (4289, 0.0), (4290, 0.04662524041201569), (4291, 0.0), (4292, 0.0), (4293, 0.0), (4294, 0.049147318718299055), (4295, 0.044455422447438706), (4296, 0.05212860351426869), (4297, 0.0), (4298, 0.0), (4299, 0.10767638041163309), (4300, 0.0), (4301, 0.05212860351426869), (4302, 0.0), (4303, 0.044455422447438706), (4304, 0.05212860351426869), (4305, 0.0), (4306, 0.0), (4307, 0.06019292654288461), (4308, 0.044455422447438706), (4309, 0.05057217374241736), (4310, 0.08695652173913045), (4311, 0.0), (4312, 0.04347826086956522), (4313, 0.049147318718299055), (4314, 0.0), (4315, 0.0), (4316, 0.0), (4317, 0.0), (4318, 0.0), (4319, 0.04662524041201569), (4320, 0.17025130615174974), (4321, 0.0), (4322, 0.0), (4323, 0.05057217374241736), (4324, 0.047836487323493986), (4325, 0.0), (4326, 0.0), (4327, 0.0), (4328, 0.0), (4329, 0.04662524041201569), (4330, 0.10425720702853739), (4331, 0.044455422447438706), (4332, 0.04170288281141496), (4333, 0.047836487323493986), (4334, 0.049147318718299055), (4335, 0.0), (4336, 0.0), (4337, 0.04347826086956522), (4338, 0.049147318718299055), (4339, 0.0), (4340, 0.0), (4341, 0.0), (4342, 0.10767638041163309), (4343, 0.04662524041201569), (4344, 0.0), (4345, 0.047836487323493986), (4346, 0.04662524041201569), (4347, 0.0), (4348, 0.04550157551932901), (4349, 0.04550157551932901), (4350, 0.0), (4351, 0.04550157551932901), (4352, 0.0), (4353, 0.0), (4354, 0.05057217374241736), (4355, 0.04662524041201569), (4356, 0.0), (4357, 0.05783149319662403), (4358, 0.09829463743659811), (4359, 0.04550157551932901), (4360, 0.04662524041201569), (4361, 0.0), (4362, 0.05057217374241736), (4363, 0.0), (4364, 0.08695652173913045), (4365, 0.047836487323493986), (4366, 0.0), (4367, 0.04089304100547654), (4368, 0.0), (4369, 0.05783149319662403), (4370, 0.05212860351426869), (4371, 0.04550157551932901), (4372, 0.0), (4373, 0.08512565307587487), (4374, 0.11566298639324805), (4375, 0.10425720702853739), (4376, 0.042562826537937436), (4377, 0.053838190205816545), (4378, 0.03806934938134405), (4379, 0.08891084489487741), (4380, 0.04550157551932901), (4381, 0.0), (4382, 0.0), (4383, 0.0), (4384, 0.05212860351426869), (4385, 0.0), (4386, 0.05057217374241736), (4387, 0.0), (4388, 0.04550157551932901), (4389, 0.0), (4390, 0.0), (4391, 0.040128617695256406), (4392, 0.0), (4393, 0.04347826086956522), (4394, 0.04170288281141496), (4395, 0.0), (4396, 0.0), (4397, 0.040128617695256406), (4398, 0.08512565307587487), (4399, 0.04662524041201569), (4400, 0.0), (4401, 0.0), (4402, 0.13043478260869568), (4403, 0.04347826086956522), (4404, 0.047836487323493986), (4405, 0.0), (4406, 0.04662524041201569), (4407, 0.09325048082403138), (4408, 0.09100315103865803), (4409, 0.0), (4410, 0.10425720702853739), (4411, 0.06019292654288461), (4412, 0.04662524041201569), (4413, 0.0), (4414, 0.0), (4415, 0.05783149319662403), (4416, 0.05783149319662403), (4417, 0.053838190205816545), (4418, 0.0), (4419, 0.05783149319662403), (4420, 0.0), (4421, 0.053838190205816545), (4422, 0.053838190205816545), (4423, 0.08512565307587487), (4424, 0.0), (4425, 0.0), (4426, 0.0659380473395787), (4427, 0.04550157551932901), (4428, 0.0), (4429, 0.047836487323493986), (4430, 0.0), (4431, 0.0), (4432, 0.047836487323493986), (4433, 0.0), (4434, 0.044455422447438706), (4435, 0.0), (4436, 0.09567297464698797), (4437, 0.04347826086956522), (4438, 0.09100315103865803), (4439, 0.042562826537937436), (4440, 0.0), (4441, 0.08025723539051281), (4442, 0.0), (4443, 0.04550157551932901), (4444, 0.047836487323493986), (4445, 0.04662524041201569), (4446, 0.0), (4447, 0.03940552031195503), (4448, 0.08178608201095308), (4449, 0.05057217374241736), (4450, 0.0), (4451, 0.0), (4452, 0.036860489038724284), (4453, 0.03940552031195503), (4454, 0.03806934938134405), (4455, 0.05212860351426869), (4456, 0.049147318718299055), (4457, 0.04347826086956522), (4458, 0.0), (4459, 0.05057217374241736), (4460, 0.04662524041201569), (4461, 0.04662524041201569), (4462, 0.053838190205816545), (4463, 0.0), (4464, 0.0), (4465, 0.04089304100547654), (4466, 0.0), (4467, 0.08025723539051281), (4468, 0.0), (4469, 0.0), (4470, 0.047836487323493986), (4471, 0.0), (4472, 0.0), (4473, 0.0), (4474, 0.04662524041201569), (4475, 0.049147318718299055), (4476, 0.05212860351426869), (4477, 0.0), (4478, 0.0), (4479, 0.0), (4480, 0.0), (4481, 0.04662524041201569), (4482, 0.053838190205816545), (4483, 0.049147318718299055), (4484, 0.04347826086956522), (4485, 0.04347826086956522), (4486, 0.040128617695256406), (4487, 0.0), (4488, 0.05572782125753529), (4489, 0.0), (4490, 0.0), (4491, 0.0), (4492, 0.0), (4493, 0.06286946134619315), (4494, 0.05057217374241736), (4495, 0.04347826086956522), (4496, 0.0), (4497, 0.0), (4498, 0.0), (4499, 0.10425720702853739), (4500, 0.0), (4501, 0.05783149319662403), (4502, 0.05572782125753529), (4503, 0.0), (4504, 0.0), (4505, 0.05057217374241736), (4506, 0.0), (4507, 0.0), (4508, 0.0), (4509, 0.04347826086956522), (4510, 0.03940552031195503), (4511, 0.04662524041201569), (4512, 0.03940552031195503), (4513, 0.0), (4514, 0.04662524041201569), (4515, 0.0), (4516, 0.04347826086956522), (4517, 0.0), (4518, 0.044455422447438706), (4519, 0.05212860351426869), (4520, 0.0), (4521, 0.0), (4522, 0.05212860351426869), (4523, 0.05572782125753529), (4524, 0.0), (4525, 0.049147318718299055), (4526, 0.0), (4527, 0.042562826537937436), (4528, 0.04662524041201569), (4529, 0.08695652173913045), (4530, 0.0), (4531, 0.05057217374241736), (4532, 0.042562826537937436), (4533, 0.04347826086956522), (4534, 0.05212860351426869), (4535, 0.04662524041201569), (4536, 0.0), (4537, 0.09567297464698797), (4538, 0.0), (4539, 0.09325048082403138), (4540, 0.06286946134619315), (4541, 0.16151457061744964), (4542, 0.04550157551932901), (4543, 0.05572782125753529), (4544, 0.0), (4545, 0.0), (4546, 0.0), (4547, 0.05057217374241736), (4548, 0.05212860351426869), (4549, 0.04347826086956522), (4550, 0.0), (4551, 0.08025723539051281), (4552, 0.0), (4553, 0.0), (4554, 0.0), (4555, 0.0), (4556, 0.05212860351426869), (4557, 0.0), (4558, 0.0), (4559, 0.0), (4560, 0.0), (4561, 0.0), (4562, 0.0), (4563, 0.0), (4564, 0.12038585308576923), (4565, 0.044455422447438706), (4566, 0.0), (4567, 0.1739130434782609), (4568, 0.0), (4569, 0.05783149319662403), (4570, 0.0), (4571, 0.0), (4572, 0.08695652173913045), (4573, 0.04170288281141496), (4574, 0.07372097807744857), (4575, 0.04170288281141496), (4576, 0.0), (4577, 0.0), (4578, 0.0), (4579, 0.0), (4580, 0.11145564251507058), (4581, 0.0), (4582, 0.08178608201095308), (4583, 0.0), (4584, 0.0), (4585, 0.047836487323493986), (4586, 0.0), (4587, 0.0), (4588, 0.044455422447438706), (4589, 0.09325048082403138), (4590, 0.053838190205816545), (4591, 0.08891084489487741), (4592, 0.05057217374241736), (4593, 0.0), (4594, 0.04170288281141496), (4595, 0.0), (4596, 0.0), (4597, 0.0), (4598, 0.0), (4599, 0.047836487323493986), (4600, 0.0), (4601, 0.0), (4602, 0.047836487323493986), (4603, 0.04347826086956522), (4604, 0.0), (4605, 0.04347826086956522), (4606, 0.0), (4607, 0.06019292654288461), (4608, 0.0), (4609, 0.0), (4610, 0.04550157551932901), (4611, 0.0), (4612, 0.053838190205816545), (4613, 0.049147318718299055), (4614, 0.053838190205816545), (4615, 0.042562826537937436), (4616, 0.0), (4617, 0.0), (4618, 0.05783149319662403), (4619, 0.049147318718299055), (4620, 0.044455422447438706), (4621, 0.0), (4622, 0.0), (4623, 0.04550157551932901), (4624, 0.044455422447438706), (4625, 0.0), (4626, 0.04089304100547654), (4627, 0.05572782125753529), (4628, 0.0), (4629, 0.0), (4630, 0.053838190205816545), (4631, 0.038720154633118314), (4632, 0.049147318718299055), (4633, 0.0), (4634, 0.053838190205816545), (4635, 0.040128617695256406), (4636, 0.044455422447438706), (4637, 0.04347826086956522), (4638, 0.12038585308576923), (4639, 0.04347826086956522), (4640, 0.0), (4641, 0.06286946134619315), (4642, 0.04089304100547654), (4643, 0.04662524041201569), (4644, 0.0), (4645, 0.0), (4646, 0.05212860351426869), (4647, 0.04550157551932901), (4648, 0.08695652173913045), (4649, 0.04347826086956522), (4650, 0.0), (4651, 0.04550157551932901), (4652, 0.0), (4653, 0.05212860351426869), (4654, 0.0), (4655, 0.05572782125753529), (4656, 0.05212860351426869), (4657, 0.0), (4658, 0.0), (4659, 0.049147318718299055), (4660, 0.0), (4661, 0.040128617695256406), (4662, 0.0), (4663, 0.0), (4664, 0.049147318718299055), (4665, 0.0), (4666, 0.0), (4667, 0.05572782125753529), (4668, 0.0), (4669, 0.0), (4670, 0.0), (4671, 0.0), (4672, 0.0), (4673, 0.0), (4674, 0.0), (4675, 0.08695652173913045), (4676, 0.10425720702853739), (4677, 0.049147318718299055), (4678, 0.05057217374241736), (4679, 0.0), (4680, 0.0), (4681, 0.0), (4682, 0.0), (4683, 0.05057217374241736), (4684, 0.0), (4685, 0.0), (4686, 0.04089304100547654), (4687, 0.04170288281141496), (4688, 0.09100315103865803), (4689, 0.0), (4690, 0.05572782125753529), (4691, 0.047836487323493986), (4692, 0.05057217374241736), (4693, 0.05212860351426869), (4694, 0.053838190205816545), (4695, 0.04550157551932901), (4696, 0.04089304100547654), (4697, 0.0), (4698, 0.0), (4699, 0.05057217374241736), (4700, 0.04550157551932901), (4701, 0.03217447260438935), (4702, 0.05057217374241736), (4703, 0.05057217374241736), (4704, 0.0761386987626881), (4705, 0.049147318718299055), (4706, 0.0), (4707, 0.04662524041201569), (4708, 0.06286946134619315), (4709, 0.0), (4710, 0.0), (4711, 0.0), (4712, 0.0), (4713, 0.0), (4714, 0.0), (4715, 0.042562826537937436), (4716, 0.0), (4717, 0.04170288281141496), (4718, 0.08695652173913045), (4719, 0.044455422447438706), (4720, 0.04550157551932901), (4721, 0.0), (4722, 0.04662524041201569), (4723, 0.0), (4724, 0.08512565307587487), (4725, 0.0), (4726, 0.042562826537937436), (4727, 0.047836487323493986), (4728, 0.0), (4729, 0.0), (4730, 0.10425720702853739), (4731, 0.0), (4732, 0.0), (4733, 0.0), (4734, 0.05057217374241736), (4735, 0.0), (4736, 0.044455422447438706), (4737, 0.0), (4738, 0.04550157551932901), (4739, 0.0), (4740, 0.0), (4741, 0.0), (4742, 0.03629770043203139), (4743, 0.0), (4744, 0.04550157551932901), (4745, 0.0), (4746, 0.053838190205816545), (4747, 0.04662524041201569), (4748, 0.0), (4749, 0.11420804814403215), (4750, 0.05057217374241736), (4751, 0.05572782125753529), (4752, 0.03179815003744467), (4753, 0.0), (4754, 0.053838190205816545), (4755, 0.0), (4756, 0.0), (4757, 0.0), (4758, 0.0), (4759, 0.0), (4760, 0.05783149319662403), (4761, 0.0), (4762, 0.09829463743659811), (4763, 0.0), (4764, 0.05212860351426869), (4765, 0.0), (4766, 0.0), (4767, 0.0), (4768, 0.05057217374241736), (4769, 0.0), (4770, 0.047836487323493986), (4771, 0.0), (4772, 0.08512565307587487), (4773, 0.0), (4774, 0.06019292654288461), (4775, 0.053838190205816545), (4776, 0.04662524041201569), (4777, 0.06019292654288461), (4778, 0.04550157551932901), (4779, 0.0), (4780, 0.05572782125753529), (4781, 0.037450294313656915), (4782, 0.04662524041201569), (4783, 0.0), (4784, 0.05572782125753529), (4785, 0.05212860351426869), (4786, 0.0), (4787, 0.0), (4788, 0.04347826086956522), (4789, 0.047836487323493986), (4790, 0.053838190205816545), (4791, 0.0), (4792, 0.0), (4793, 0.047836487323493986), (4794, 0.0), (4795, 0.044455422447438706), (4796, 0.11420804814403215), (4797, 0.0), (4798, 0.0), (4799, 0.09567297464698797), (4800, 0.04170288281141496), (4801, 0.0), (4802, 0.0)]\n"
          ]
        }
      ]
    },
    {
      "cell_type": "markdown",
      "source": [
        "Now that we have the list of similar movies.. we just need to loop over and print the top 5 or 10 movies that similar in descending order"
      ],
      "metadata": {
        "id": "oQoXAApXvBac"
      }
    },
    {
      "cell_type": "code",
      "source": [
        "movies_similar_sorted = sorted(movies_similar, key=lambda x:x[1], reverse=True)[1:]"
      ],
      "metadata": {
        "id": "34zE2_mVukxH"
      },
      "execution_count": 39,
      "outputs": []
    },
    {
      "cell_type": "code",
      "source": [
        "# run the loop to get top 10 similar movies\n",
        "\n",
        "i=0\n",
        "print(\"Top 10 movies similar to \" + user_liked_movie + \" are:\\n\")\n",
        "for movie in movies_similar_sorted:\n",
        "  print(movie)\n",
        "  print(get_title_from_index(movie[0]))\n",
        "  i=i+1\n",
        "  if i > 10:\n",
        "    break"
      ],
      "metadata": {
        "colab": {
          "base_uri": "https://localhost:8080/"
        },
        "id": "kMrjkUpAvbok",
        "outputId": "ee96092d-56db-4b1c-c894-ff6ed5623577"
      },
      "execution_count": 41,
      "outputs": [
        {
          "output_type": "stream",
          "name": "stdout",
          "text": [
            "Top 10 movies similar to Fight Club are:\n",
            "\n",
            "(1010, 0.23312620206007845)\n",
            "Panic Room\n",
            "(3894, 0.22750787759664506)\n",
            "A Room with a View\n",
            "(2634, 0.22291128503014115)\n",
            "Crazy in Alabama\n",
            "(100, 0.22227711223719354)\n",
            "The Curious Case of Benjamin Button\n",
            "(3393, 0.21535276082326618)\n",
            "The Heart of Me\n",
            "(3283, 0.2044652050273827)\n",
            "Down in the Valley\n",
            "(407, 0.1872514715682846)\n",
            "Meet Joe Black\n",
            "(1509, 0.18650096164806276)\n",
            "The Young and Prodigious T.S. Spivet\n",
            "(592, 0.17782168978975482)\n",
            "Seven Years in Tibet\n",
            "(1553, 0.17782168978975482)\n",
            "Se7en\n",
            "(1685, 0.17782168978975482)\n",
            "Keeping the Faith\n"
          ]
        }
      ]
    }
  ]
}